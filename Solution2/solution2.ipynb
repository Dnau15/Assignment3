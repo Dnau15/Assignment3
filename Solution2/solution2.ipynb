{
  "cells": [
    {
      "cell_type": "code",
      "execution_count": 5,
      "metadata": {
        "colab": {
          "base_uri": "https://localhost:8080/"
        },
        "id": "H0_rwRh0Afdu",
        "outputId": "81dd1ca5-a63e-44e6-c270-acfcac5e6e43"
      },
      "outputs": [
        {
          "output_type": "stream",
          "name": "stdout",
          "text": [
            "Archive:  archive.zip\n",
            "  inflating: dev.jsonl               \n",
            "  inflating: test.jsonl              \n",
            "  inflating: train.jsonl             \n"
          ]
        }
      ],
      "source": [
        "!unzip archive.zip"
      ]
    },
    {
      "cell_type": "code",
      "execution_count": 6,
      "metadata": {
        "colab": {
          "base_uri": "https://localhost:8080/"
        },
        "id": "YeFEo-GfBLYI",
        "outputId": "076ce071-e9d8-41ee-df37-eb0fbd85cc72"
      },
      "outputs": [
        {
          "output_type": "stream",
          "name": "stdout",
          "text": [
            "Requirement already satisfied: spacy in /usr/local/lib/python3.10/dist-packages (3.7.4)\n",
            "Requirement already satisfied: spacy-legacy<3.1.0,>=3.0.11 in /usr/local/lib/python3.10/dist-packages (from spacy) (3.0.12)\n",
            "Requirement already satisfied: spacy-loggers<2.0.0,>=1.0.0 in /usr/local/lib/python3.10/dist-packages (from spacy) (1.0.5)\n",
            "Requirement already satisfied: murmurhash<1.1.0,>=0.28.0 in /usr/local/lib/python3.10/dist-packages (from spacy) (1.0.10)\n",
            "Requirement already satisfied: cymem<2.1.0,>=2.0.2 in /usr/local/lib/python3.10/dist-packages (from spacy) (2.0.8)\n",
            "Requirement already satisfied: preshed<3.1.0,>=3.0.2 in /usr/local/lib/python3.10/dist-packages (from spacy) (3.0.9)\n",
            "Requirement already satisfied: thinc<8.3.0,>=8.2.2 in /usr/local/lib/python3.10/dist-packages (from spacy) (8.2.3)\n",
            "Requirement already satisfied: wasabi<1.2.0,>=0.9.1 in /usr/local/lib/python3.10/dist-packages (from spacy) (1.1.2)\n",
            "Requirement already satisfied: srsly<3.0.0,>=2.4.3 in /usr/local/lib/python3.10/dist-packages (from spacy) (2.4.8)\n",
            "Requirement already satisfied: catalogue<2.1.0,>=2.0.6 in /usr/local/lib/python3.10/dist-packages (from spacy) (2.0.10)\n",
            "Requirement already satisfied: weasel<0.4.0,>=0.1.0 in /usr/local/lib/python3.10/dist-packages (from spacy) (0.3.4)\n",
            "Requirement already satisfied: typer<0.10.0,>=0.3.0 in /usr/local/lib/python3.10/dist-packages (from spacy) (0.9.4)\n",
            "Requirement already satisfied: smart-open<7.0.0,>=5.2.1 in /usr/local/lib/python3.10/dist-packages (from spacy) (6.4.0)\n",
            "Requirement already satisfied: tqdm<5.0.0,>=4.38.0 in /usr/local/lib/python3.10/dist-packages (from spacy) (4.66.2)\n",
            "Requirement already satisfied: requests<3.0.0,>=2.13.0 in /usr/local/lib/python3.10/dist-packages (from spacy) (2.31.0)\n",
            "Requirement already satisfied: pydantic!=1.8,!=1.8.1,<3.0.0,>=1.7.4 in /usr/local/lib/python3.10/dist-packages (from spacy) (2.7.0)\n",
            "Requirement already satisfied: jinja2 in /usr/local/lib/python3.10/dist-packages (from spacy) (3.1.3)\n",
            "Requirement already satisfied: setuptools in /usr/local/lib/python3.10/dist-packages (from spacy) (67.7.2)\n",
            "Requirement already satisfied: packaging>=20.0 in /usr/local/lib/python3.10/dist-packages (from spacy) (24.0)\n",
            "Requirement already satisfied: langcodes<4.0.0,>=3.2.0 in /usr/local/lib/python3.10/dist-packages (from spacy) (3.3.0)\n",
            "Requirement already satisfied: numpy>=1.19.0 in /usr/local/lib/python3.10/dist-packages (from spacy) (1.25.2)\n",
            "Requirement already satisfied: annotated-types>=0.4.0 in /usr/local/lib/python3.10/dist-packages (from pydantic!=1.8,!=1.8.1,<3.0.0,>=1.7.4->spacy) (0.6.0)\n",
            "Requirement already satisfied: pydantic-core==2.18.1 in /usr/local/lib/python3.10/dist-packages (from pydantic!=1.8,!=1.8.1,<3.0.0,>=1.7.4->spacy) (2.18.1)\n",
            "Requirement already satisfied: typing-extensions>=4.6.1 in /usr/local/lib/python3.10/dist-packages (from pydantic!=1.8,!=1.8.1,<3.0.0,>=1.7.4->spacy) (4.11.0)\n",
            "Requirement already satisfied: charset-normalizer<4,>=2 in /usr/local/lib/python3.10/dist-packages (from requests<3.0.0,>=2.13.0->spacy) (3.3.2)\n",
            "Requirement already satisfied: idna<4,>=2.5 in /usr/local/lib/python3.10/dist-packages (from requests<3.0.0,>=2.13.0->spacy) (3.7)\n",
            "Requirement already satisfied: urllib3<3,>=1.21.1 in /usr/local/lib/python3.10/dist-packages (from requests<3.0.0,>=2.13.0->spacy) (2.0.7)\n",
            "Requirement already satisfied: certifi>=2017.4.17 in /usr/local/lib/python3.10/dist-packages (from requests<3.0.0,>=2.13.0->spacy) (2024.2.2)\n",
            "Requirement already satisfied: blis<0.8.0,>=0.7.8 in /usr/local/lib/python3.10/dist-packages (from thinc<8.3.0,>=8.2.2->spacy) (0.7.11)\n",
            "Requirement already satisfied: confection<1.0.0,>=0.0.1 in /usr/local/lib/python3.10/dist-packages (from thinc<8.3.0,>=8.2.2->spacy) (0.1.4)\n",
            "Requirement already satisfied: click<9.0.0,>=7.1.1 in /usr/local/lib/python3.10/dist-packages (from typer<0.10.0,>=0.3.0->spacy) (8.1.7)\n",
            "Requirement already satisfied: cloudpathlib<0.17.0,>=0.7.0 in /usr/local/lib/python3.10/dist-packages (from weasel<0.4.0,>=0.1.0->spacy) (0.16.0)\n",
            "Requirement already satisfied: MarkupSafe>=2.0 in /usr/local/lib/python3.10/dist-packages (from jinja2->spacy) (2.1.5)\n",
            "Requirement already satisfied: spacy[transformers] in /usr/local/lib/python3.10/dist-packages (3.7.4)\n",
            "Requirement already satisfied: spacy-legacy<3.1.0,>=3.0.11 in /usr/local/lib/python3.10/dist-packages (from spacy[transformers]) (3.0.12)\n",
            "Requirement already satisfied: spacy-loggers<2.0.0,>=1.0.0 in /usr/local/lib/python3.10/dist-packages (from spacy[transformers]) (1.0.5)\n",
            "Requirement already satisfied: murmurhash<1.1.0,>=0.28.0 in /usr/local/lib/python3.10/dist-packages (from spacy[transformers]) (1.0.10)\n",
            "Requirement already satisfied: cymem<2.1.0,>=2.0.2 in /usr/local/lib/python3.10/dist-packages (from spacy[transformers]) (2.0.8)\n",
            "Requirement already satisfied: preshed<3.1.0,>=3.0.2 in /usr/local/lib/python3.10/dist-packages (from spacy[transformers]) (3.0.9)\n",
            "Requirement already satisfied: thinc<8.3.0,>=8.2.2 in /usr/local/lib/python3.10/dist-packages (from spacy[transformers]) (8.2.3)\n",
            "Requirement already satisfied: wasabi<1.2.0,>=0.9.1 in /usr/local/lib/python3.10/dist-packages (from spacy[transformers]) (1.1.2)\n",
            "Requirement already satisfied: srsly<3.0.0,>=2.4.3 in /usr/local/lib/python3.10/dist-packages (from spacy[transformers]) (2.4.8)\n",
            "Requirement already satisfied: catalogue<2.1.0,>=2.0.6 in /usr/local/lib/python3.10/dist-packages (from spacy[transformers]) (2.0.10)\n",
            "Requirement already satisfied: weasel<0.4.0,>=0.1.0 in /usr/local/lib/python3.10/dist-packages (from spacy[transformers]) (0.3.4)\n",
            "Requirement already satisfied: typer<0.10.0,>=0.3.0 in /usr/local/lib/python3.10/dist-packages (from spacy[transformers]) (0.9.4)\n",
            "Requirement already satisfied: smart-open<7.0.0,>=5.2.1 in /usr/local/lib/python3.10/dist-packages (from spacy[transformers]) (6.4.0)\n",
            "Requirement already satisfied: tqdm<5.0.0,>=4.38.0 in /usr/local/lib/python3.10/dist-packages (from spacy[transformers]) (4.66.2)\n",
            "Requirement already satisfied: requests<3.0.0,>=2.13.0 in /usr/local/lib/python3.10/dist-packages (from spacy[transformers]) (2.31.0)\n",
            "Requirement already satisfied: pydantic!=1.8,!=1.8.1,<3.0.0,>=1.7.4 in /usr/local/lib/python3.10/dist-packages (from spacy[transformers]) (2.7.0)\n",
            "Requirement already satisfied: jinja2 in /usr/local/lib/python3.10/dist-packages (from spacy[transformers]) (3.1.3)\n",
            "Requirement already satisfied: setuptools in /usr/local/lib/python3.10/dist-packages (from spacy[transformers]) (67.7.2)\n",
            "Requirement already satisfied: packaging>=20.0 in /usr/local/lib/python3.10/dist-packages (from spacy[transformers]) (24.0)\n",
            "Requirement already satisfied: langcodes<4.0.0,>=3.2.0 in /usr/local/lib/python3.10/dist-packages (from spacy[transformers]) (3.3.0)\n",
            "Requirement already satisfied: numpy>=1.19.0 in /usr/local/lib/python3.10/dist-packages (from spacy[transformers]) (1.25.2)\n",
            "Collecting spacy-transformers<1.4.0,>=1.1.2 (from spacy[transformers])\n",
            "  Using cached spacy_transformers-1.3.5-cp310-cp310-manylinux_2_17_x86_64.manylinux2014_x86_64.whl (197 kB)\n",
            "Requirement already satisfied: annotated-types>=0.4.0 in /usr/local/lib/python3.10/dist-packages (from pydantic!=1.8,!=1.8.1,<3.0.0,>=1.7.4->spacy[transformers]) (0.6.0)\n",
            "Requirement already satisfied: pydantic-core==2.18.1 in /usr/local/lib/python3.10/dist-packages (from pydantic!=1.8,!=1.8.1,<3.0.0,>=1.7.4->spacy[transformers]) (2.18.1)\n",
            "Requirement already satisfied: typing-extensions>=4.6.1 in /usr/local/lib/python3.10/dist-packages (from pydantic!=1.8,!=1.8.1,<3.0.0,>=1.7.4->spacy[transformers]) (4.11.0)\n",
            "Requirement already satisfied: charset-normalizer<4,>=2 in /usr/local/lib/python3.10/dist-packages (from requests<3.0.0,>=2.13.0->spacy[transformers]) (3.3.2)\n",
            "Requirement already satisfied: idna<4,>=2.5 in /usr/local/lib/python3.10/dist-packages (from requests<3.0.0,>=2.13.0->spacy[transformers]) (3.7)\n",
            "Requirement already satisfied: urllib3<3,>=1.21.1 in /usr/local/lib/python3.10/dist-packages (from requests<3.0.0,>=2.13.0->spacy[transformers]) (2.0.7)\n",
            "Requirement already satisfied: certifi>=2017.4.17 in /usr/local/lib/python3.10/dist-packages (from requests<3.0.0,>=2.13.0->spacy[transformers]) (2024.2.2)\n",
            "Collecting transformers<4.37.0,>=3.4.0 (from spacy-transformers<1.4.0,>=1.1.2->spacy[transformers])\n",
            "  Using cached transformers-4.36.2-py3-none-any.whl (8.2 MB)\n",
            "Requirement already satisfied: torch>=1.8.0 in /usr/local/lib/python3.10/dist-packages (from spacy-transformers<1.4.0,>=1.1.2->spacy[transformers]) (2.2.1+cu121)\n",
            "Requirement already satisfied: spacy-alignments<1.0.0,>=0.7.2 in /usr/local/lib/python3.10/dist-packages (from spacy-transformers<1.4.0,>=1.1.2->spacy[transformers]) (0.9.1)\n",
            "Requirement already satisfied: blis<0.8.0,>=0.7.8 in /usr/local/lib/python3.10/dist-packages (from thinc<8.3.0,>=8.2.2->spacy[transformers]) (0.7.11)\n",
            "Requirement already satisfied: confection<1.0.0,>=0.0.1 in /usr/local/lib/python3.10/dist-packages (from thinc<8.3.0,>=8.2.2->spacy[transformers]) (0.1.4)\n",
            "Requirement already satisfied: click<9.0.0,>=7.1.1 in /usr/local/lib/python3.10/dist-packages (from typer<0.10.0,>=0.3.0->spacy[transformers]) (8.1.7)\n",
            "Requirement already satisfied: cloudpathlib<0.17.0,>=0.7.0 in /usr/local/lib/python3.10/dist-packages (from weasel<0.4.0,>=0.1.0->spacy[transformers]) (0.16.0)\n",
            "Requirement already satisfied: MarkupSafe>=2.0 in /usr/local/lib/python3.10/dist-packages (from jinja2->spacy[transformers]) (2.1.5)\n",
            "Requirement already satisfied: filelock in /usr/local/lib/python3.10/dist-packages (from torch>=1.8.0->spacy-transformers<1.4.0,>=1.1.2->spacy[transformers]) (3.13.4)\n",
            "Requirement already satisfied: sympy in /usr/local/lib/python3.10/dist-packages (from torch>=1.8.0->spacy-transformers<1.4.0,>=1.1.2->spacy[transformers]) (1.12)\n",
            "Requirement already satisfied: networkx in /usr/local/lib/python3.10/dist-packages (from torch>=1.8.0->spacy-transformers<1.4.0,>=1.1.2->spacy[transformers]) (3.3)\n",
            "Requirement already satisfied: fsspec in /usr/local/lib/python3.10/dist-packages (from torch>=1.8.0->spacy-transformers<1.4.0,>=1.1.2->spacy[transformers]) (2023.6.0)\n",
            "Requirement already satisfied: nvidia-cuda-nvrtc-cu12==12.1.105 in /usr/local/lib/python3.10/dist-packages (from torch>=1.8.0->spacy-transformers<1.4.0,>=1.1.2->spacy[transformers]) (12.1.105)\n",
            "Requirement already satisfied: nvidia-cuda-runtime-cu12==12.1.105 in /usr/local/lib/python3.10/dist-packages (from torch>=1.8.0->spacy-transformers<1.4.0,>=1.1.2->spacy[transformers]) (12.1.105)\n",
            "Requirement already satisfied: nvidia-cuda-cupti-cu12==12.1.105 in /usr/local/lib/python3.10/dist-packages (from torch>=1.8.0->spacy-transformers<1.4.0,>=1.1.2->spacy[transformers]) (12.1.105)\n",
            "Collecting nvidia-cudnn-cu12==8.9.2.26 (from torch>=1.8.0->spacy-transformers<1.4.0,>=1.1.2->spacy[transformers])\n",
            "  Using cached nvidia_cudnn_cu12-8.9.2.26-py3-none-manylinux1_x86_64.whl (731.7 MB)\n",
            "Collecting nvidia-cublas-cu12==12.1.3.1 (from torch>=1.8.0->spacy-transformers<1.4.0,>=1.1.2->spacy[transformers])\n",
            "  Using cached nvidia_cublas_cu12-12.1.3.1-py3-none-manylinux1_x86_64.whl (410.6 MB)\n",
            "Requirement already satisfied: nvidia-cufft-cu12==11.0.2.54 in /usr/local/lib/python3.10/dist-packages (from torch>=1.8.0->spacy-transformers<1.4.0,>=1.1.2->spacy[transformers]) (11.0.2.54)\n",
            "Requirement already satisfied: nvidia-curand-cu12==10.3.2.106 in /usr/local/lib/python3.10/dist-packages (from torch>=1.8.0->spacy-transformers<1.4.0,>=1.1.2->spacy[transformers]) (10.3.2.106)\n",
            "Collecting nvidia-cusolver-cu12==11.4.5.107 (from torch>=1.8.0->spacy-transformers<1.4.0,>=1.1.2->spacy[transformers])\n",
            "  Using cached nvidia_cusolver_cu12-11.4.5.107-py3-none-manylinux1_x86_64.whl (124.2 MB)\n",
            "Collecting nvidia-cusparse-cu12==12.1.0.106 (from torch>=1.8.0->spacy-transformers<1.4.0,>=1.1.2->spacy[transformers])\n",
            "  Using cached nvidia_cusparse_cu12-12.1.0.106-py3-none-manylinux1_x86_64.whl (196.0 MB)\n",
            "Requirement already satisfied: nvidia-nccl-cu12==2.19.3 in /usr/local/lib/python3.10/dist-packages (from torch>=1.8.0->spacy-transformers<1.4.0,>=1.1.2->spacy[transformers]) (2.19.3)\n",
            "Requirement already satisfied: nvidia-nvtx-cu12==12.1.105 in /usr/local/lib/python3.10/dist-packages (from torch>=1.8.0->spacy-transformers<1.4.0,>=1.1.2->spacy[transformers]) (12.1.105)\n",
            "Requirement already satisfied: triton==2.2.0 in /usr/local/lib/python3.10/dist-packages (from torch>=1.8.0->spacy-transformers<1.4.0,>=1.1.2->spacy[transformers]) (2.2.0)\n",
            "Requirement already satisfied: nvidia-nvjitlink-cu12 in /usr/local/lib/python3.10/dist-packages (from nvidia-cusolver-cu12==11.4.5.107->torch>=1.8.0->spacy-transformers<1.4.0,>=1.1.2->spacy[transformers]) (12.4.127)\n",
            "Requirement already satisfied: huggingface-hub<1.0,>=0.19.3 in /usr/local/lib/python3.10/dist-packages (from transformers<4.37.0,>=3.4.0->spacy-transformers<1.4.0,>=1.1.2->spacy[transformers]) (0.20.3)\n",
            "Requirement already satisfied: pyyaml>=5.1 in /usr/local/lib/python3.10/dist-packages (from transformers<4.37.0,>=3.4.0->spacy-transformers<1.4.0,>=1.1.2->spacy[transformers]) (6.0.1)\n",
            "Requirement already satisfied: regex!=2019.12.17 in /usr/local/lib/python3.10/dist-packages (from transformers<4.37.0,>=3.4.0->spacy-transformers<1.4.0,>=1.1.2->spacy[transformers]) (2023.12.25)\n",
            "Collecting tokenizers<0.19,>=0.14 (from transformers<4.37.0,>=3.4.0->spacy-transformers<1.4.0,>=1.1.2->spacy[transformers])\n",
            "  Using cached tokenizers-0.15.2-cp310-cp310-manylinux_2_17_x86_64.manylinux2014_x86_64.whl (3.6 MB)\n",
            "Requirement already satisfied: safetensors>=0.3.1 in /usr/local/lib/python3.10/dist-packages (from transformers<4.37.0,>=3.4.0->spacy-transformers<1.4.0,>=1.1.2->spacy[transformers]) (0.4.3)\n",
            "Requirement already satisfied: mpmath>=0.19 in /usr/local/lib/python3.10/dist-packages (from sympy->torch>=1.8.0->spacy-transformers<1.4.0,>=1.1.2->spacy[transformers]) (1.3.0)\n",
            "Installing collected packages: nvidia-cusparse-cu12, nvidia-cublas-cu12, nvidia-cusolver-cu12, nvidia-cudnn-cu12, tokenizers, transformers, spacy-transformers\n",
            "  Attempting uninstall: tokenizers\n",
            "    Found existing installation: tokenizers 0.19.1\n",
            "    Uninstalling tokenizers-0.19.1:\n",
            "      Successfully uninstalled tokenizers-0.19.1\n",
            "  Attempting uninstall: transformers\n",
            "    Found existing installation: transformers 4.40.0\n",
            "    Uninstalling transformers-4.40.0:\n",
            "      Successfully uninstalled transformers-4.40.0\n",
            "Successfully installed nvidia-cublas-cu12-12.1.3.1 nvidia-cudnn-cu12-8.9.2.26 nvidia-cusolver-cu12-11.4.5.107 nvidia-cusparse-cu12-12.1.0.106 spacy-transformers-1.3.5 tokenizers-0.15.2 transformers-4.36.2\n",
            "Requirement already satisfied: thinc==8.2.3 in /usr/local/lib/python3.10/dist-packages (8.2.3)\n",
            "Requirement already satisfied: blis<0.8.0,>=0.7.8 in /usr/local/lib/python3.10/dist-packages (from thinc==8.2.3) (0.7.11)\n",
            "Requirement already satisfied: murmurhash<1.1.0,>=1.0.2 in /usr/local/lib/python3.10/dist-packages (from thinc==8.2.3) (1.0.10)\n",
            "Requirement already satisfied: cymem<2.1.0,>=2.0.2 in /usr/local/lib/python3.10/dist-packages (from thinc==8.2.3) (2.0.8)\n",
            "Requirement already satisfied: preshed<3.1.0,>=3.0.2 in /usr/local/lib/python3.10/dist-packages (from thinc==8.2.3) (3.0.9)\n",
            "Requirement already satisfied: wasabi<1.2.0,>=0.8.1 in /usr/local/lib/python3.10/dist-packages (from thinc==8.2.3) (1.1.2)\n",
            "Requirement already satisfied: srsly<3.0.0,>=2.4.0 in /usr/local/lib/python3.10/dist-packages (from thinc==8.2.3) (2.4.8)\n",
            "Requirement already satisfied: catalogue<2.1.0,>=2.0.4 in /usr/local/lib/python3.10/dist-packages (from thinc==8.2.3) (2.0.10)\n",
            "Requirement already satisfied: confection<1.0.0,>=0.0.1 in /usr/local/lib/python3.10/dist-packages (from thinc==8.2.3) (0.1.4)\n",
            "Requirement already satisfied: setuptools in /usr/local/lib/python3.10/dist-packages (from thinc==8.2.3) (67.7.2)\n",
            "Requirement already satisfied: pydantic!=1.8,!=1.8.1,<3.0.0,>=1.7.4 in /usr/local/lib/python3.10/dist-packages (from thinc==8.2.3) (2.7.0)\n",
            "Requirement already satisfied: packaging>=20.0 in /usr/local/lib/python3.10/dist-packages (from thinc==8.2.3) (24.0)\n",
            "Requirement already satisfied: numpy>=1.19.0 in /usr/local/lib/python3.10/dist-packages (from thinc==8.2.3) (1.25.2)\n",
            "Requirement already satisfied: annotated-types>=0.4.0 in /usr/local/lib/python3.10/dist-packages (from pydantic!=1.8,!=1.8.1,<3.0.0,>=1.7.4->thinc==8.2.3) (0.6.0)\n",
            "Requirement already satisfied: pydantic-core==2.18.1 in /usr/local/lib/python3.10/dist-packages (from pydantic!=1.8,!=1.8.1,<3.0.0,>=1.7.4->thinc==8.2.3) (2.18.1)\n",
            "Requirement already satisfied: typing-extensions>=4.6.1 in /usr/local/lib/python3.10/dist-packages (from pydantic!=1.8,!=1.8.1,<3.0.0,>=1.7.4->thinc==8.2.3) (4.11.0)\n"
          ]
        }
      ],
      "source": [
        "!pip install spacy\n",
        "%pip install -U 'spacy[transformers]'\n",
        "!pip install thinc==8.2.3"
      ]
    },
    {
      "cell_type": "code",
      "source": [
        "#!pip install spacy-transformers\n",
        "%pip install -U 'spacy[transformers]'\n"
      ],
      "metadata": {
        "colab": {
          "base_uri": "https://localhost:8080/"
        },
        "id": "yGgwTpmQlNgp",
        "outputId": "027837df-e403-415b-9a53-68b38d5f0f92"
      },
      "execution_count": 36,
      "outputs": [
        {
          "output_type": "stream",
          "name": "stdout",
          "text": [
            "Requirement already satisfied: spacy[transformers] in /usr/local/lib/python3.10/dist-packages (3.7.4)\n",
            "Requirement already satisfied: spacy-legacy<3.1.0,>=3.0.11 in /usr/local/lib/python3.10/dist-packages (from spacy[transformers]) (3.0.12)\n",
            "Requirement already satisfied: spacy-loggers<2.0.0,>=1.0.0 in /usr/local/lib/python3.10/dist-packages (from spacy[transformers]) (1.0.5)\n",
            "Requirement already satisfied: murmurhash<1.1.0,>=0.28.0 in /usr/local/lib/python3.10/dist-packages (from spacy[transformers]) (1.0.10)\n",
            "Requirement already satisfied: cymem<2.1.0,>=2.0.2 in /usr/local/lib/python3.10/dist-packages (from spacy[transformers]) (2.0.8)\n",
            "Requirement already satisfied: preshed<3.1.0,>=3.0.2 in /usr/local/lib/python3.10/dist-packages (from spacy[transformers]) (3.0.9)\n",
            "Requirement already satisfied: thinc<8.3.0,>=8.2.2 in /usr/local/lib/python3.10/dist-packages (from spacy[transformers]) (8.2.3)\n",
            "Requirement already satisfied: wasabi<1.2.0,>=0.9.1 in /usr/local/lib/python3.10/dist-packages (from spacy[transformers]) (1.1.2)\n",
            "Requirement already satisfied: srsly<3.0.0,>=2.4.3 in /usr/local/lib/python3.10/dist-packages (from spacy[transformers]) (2.4.8)\n",
            "Requirement already satisfied: catalogue<2.1.0,>=2.0.6 in /usr/local/lib/python3.10/dist-packages (from spacy[transformers]) (2.0.10)\n",
            "Requirement already satisfied: weasel<0.4.0,>=0.1.0 in /usr/local/lib/python3.10/dist-packages (from spacy[transformers]) (0.3.4)\n",
            "Requirement already satisfied: typer<0.10.0,>=0.3.0 in /usr/local/lib/python3.10/dist-packages (from spacy[transformers]) (0.9.4)\n",
            "Requirement already satisfied: smart-open<7.0.0,>=5.2.1 in /usr/local/lib/python3.10/dist-packages (from spacy[transformers]) (6.4.0)\n",
            "Requirement already satisfied: tqdm<5.0.0,>=4.38.0 in /usr/local/lib/python3.10/dist-packages (from spacy[transformers]) (4.66.2)\n",
            "Requirement already satisfied: requests<3.0.0,>=2.13.0 in /usr/local/lib/python3.10/dist-packages (from spacy[transformers]) (2.31.0)\n",
            "Requirement already satisfied: pydantic!=1.8,!=1.8.1,<3.0.0,>=1.7.4 in /usr/local/lib/python3.10/dist-packages (from spacy[transformers]) (2.7.0)\n",
            "Requirement already satisfied: jinja2 in /usr/local/lib/python3.10/dist-packages (from spacy[transformers]) (3.1.3)\n",
            "Requirement already satisfied: setuptools in /usr/local/lib/python3.10/dist-packages (from spacy[transformers]) (67.7.2)\n",
            "Requirement already satisfied: packaging>=20.0 in /usr/local/lib/python3.10/dist-packages (from spacy[transformers]) (24.0)\n",
            "Requirement already satisfied: langcodes<4.0.0,>=3.2.0 in /usr/local/lib/python3.10/dist-packages (from spacy[transformers]) (3.3.0)\n",
            "Requirement already satisfied: numpy>=1.19.0 in /usr/local/lib/python3.10/dist-packages (from spacy[transformers]) (1.25.2)\n",
            "Requirement already satisfied: spacy-transformers<1.4.0,>=1.1.2 in /usr/local/lib/python3.10/dist-packages (from spacy[transformers]) (1.3.5)\n",
            "Requirement already satisfied: annotated-types>=0.4.0 in /usr/local/lib/python3.10/dist-packages (from pydantic!=1.8,!=1.8.1,<3.0.0,>=1.7.4->spacy[transformers]) (0.6.0)\n",
            "Requirement already satisfied: pydantic-core==2.18.1 in /usr/local/lib/python3.10/dist-packages (from pydantic!=1.8,!=1.8.1,<3.0.0,>=1.7.4->spacy[transformers]) (2.18.1)\n",
            "Requirement already satisfied: typing-extensions>=4.6.1 in /usr/local/lib/python3.10/dist-packages (from pydantic!=1.8,!=1.8.1,<3.0.0,>=1.7.4->spacy[transformers]) (4.11.0)\n",
            "Requirement already satisfied: charset-normalizer<4,>=2 in /usr/local/lib/python3.10/dist-packages (from requests<3.0.0,>=2.13.0->spacy[transformers]) (3.3.2)\n",
            "Requirement already satisfied: idna<4,>=2.5 in /usr/local/lib/python3.10/dist-packages (from requests<3.0.0,>=2.13.0->spacy[transformers]) (3.7)\n",
            "Requirement already satisfied: urllib3<3,>=1.21.1 in /usr/local/lib/python3.10/dist-packages (from requests<3.0.0,>=2.13.0->spacy[transformers]) (2.0.7)\n",
            "Requirement already satisfied: certifi>=2017.4.17 in /usr/local/lib/python3.10/dist-packages (from requests<3.0.0,>=2.13.0->spacy[transformers]) (2024.2.2)\n",
            "Requirement already satisfied: transformers<4.37.0,>=3.4.0 in /usr/local/lib/python3.10/dist-packages (from spacy-transformers<1.4.0,>=1.1.2->spacy[transformers]) (4.36.2)\n",
            "Requirement already satisfied: torch>=1.8.0 in /usr/local/lib/python3.10/dist-packages (from spacy-transformers<1.4.0,>=1.1.2->spacy[transformers]) (2.2.1+cu121)\n",
            "Requirement already satisfied: spacy-alignments<1.0.0,>=0.7.2 in /usr/local/lib/python3.10/dist-packages (from spacy-transformers<1.4.0,>=1.1.2->spacy[transformers]) (0.9.1)\n",
            "Requirement already satisfied: blis<0.8.0,>=0.7.8 in /usr/local/lib/python3.10/dist-packages (from thinc<8.3.0,>=8.2.2->spacy[transformers]) (0.7.11)\n",
            "Requirement already satisfied: confection<1.0.0,>=0.0.1 in /usr/local/lib/python3.10/dist-packages (from thinc<8.3.0,>=8.2.2->spacy[transformers]) (0.1.4)\n",
            "Requirement already satisfied: click<9.0.0,>=7.1.1 in /usr/local/lib/python3.10/dist-packages (from typer<0.10.0,>=0.3.0->spacy[transformers]) (8.1.7)\n",
            "Requirement already satisfied: cloudpathlib<0.17.0,>=0.7.0 in /usr/local/lib/python3.10/dist-packages (from weasel<0.4.0,>=0.1.0->spacy[transformers]) (0.16.0)\n",
            "Requirement already satisfied: MarkupSafe>=2.0 in /usr/local/lib/python3.10/dist-packages (from jinja2->spacy[transformers]) (2.1.5)\n",
            "Requirement already satisfied: filelock in /usr/local/lib/python3.10/dist-packages (from torch>=1.8.0->spacy-transformers<1.4.0,>=1.1.2->spacy[transformers]) (3.13.4)\n",
            "Requirement already satisfied: sympy in /usr/local/lib/python3.10/dist-packages (from torch>=1.8.0->spacy-transformers<1.4.0,>=1.1.2->spacy[transformers]) (1.12)\n",
            "Requirement already satisfied: networkx in /usr/local/lib/python3.10/dist-packages (from torch>=1.8.0->spacy-transformers<1.4.0,>=1.1.2->spacy[transformers]) (3.3)\n",
            "Requirement already satisfied: fsspec in /usr/local/lib/python3.10/dist-packages (from torch>=1.8.0->spacy-transformers<1.4.0,>=1.1.2->spacy[transformers]) (2023.6.0)\n",
            "Requirement already satisfied: nvidia-cuda-nvrtc-cu12==12.1.105 in /usr/local/lib/python3.10/dist-packages (from torch>=1.8.0->spacy-transformers<1.4.0,>=1.1.2->spacy[transformers]) (12.1.105)\n",
            "Requirement already satisfied: nvidia-cuda-runtime-cu12==12.1.105 in /usr/local/lib/python3.10/dist-packages (from torch>=1.8.0->spacy-transformers<1.4.0,>=1.1.2->spacy[transformers]) (12.1.105)\n",
            "Requirement already satisfied: nvidia-cuda-cupti-cu12==12.1.105 in /usr/local/lib/python3.10/dist-packages (from torch>=1.8.0->spacy-transformers<1.4.0,>=1.1.2->spacy[transformers]) (12.1.105)\n",
            "Requirement already satisfied: nvidia-cudnn-cu12==8.9.2.26 in /usr/local/lib/python3.10/dist-packages (from torch>=1.8.0->spacy-transformers<1.4.0,>=1.1.2->spacy[transformers]) (8.9.2.26)\n",
            "Requirement already satisfied: nvidia-cublas-cu12==12.1.3.1 in /usr/local/lib/python3.10/dist-packages (from torch>=1.8.0->spacy-transformers<1.4.0,>=1.1.2->spacy[transformers]) (12.1.3.1)\n",
            "Requirement already satisfied: nvidia-cufft-cu12==11.0.2.54 in /usr/local/lib/python3.10/dist-packages (from torch>=1.8.0->spacy-transformers<1.4.0,>=1.1.2->spacy[transformers]) (11.0.2.54)\n",
            "Requirement already satisfied: nvidia-curand-cu12==10.3.2.106 in /usr/local/lib/python3.10/dist-packages (from torch>=1.8.0->spacy-transformers<1.4.0,>=1.1.2->spacy[transformers]) (10.3.2.106)\n",
            "Requirement already satisfied: nvidia-cusolver-cu12==11.4.5.107 in /usr/local/lib/python3.10/dist-packages (from torch>=1.8.0->spacy-transformers<1.4.0,>=1.1.2->spacy[transformers]) (11.4.5.107)\n",
            "Requirement already satisfied: nvidia-cusparse-cu12==12.1.0.106 in /usr/local/lib/python3.10/dist-packages (from torch>=1.8.0->spacy-transformers<1.4.0,>=1.1.2->spacy[transformers]) (12.1.0.106)\n",
            "Requirement already satisfied: nvidia-nccl-cu12==2.19.3 in /usr/local/lib/python3.10/dist-packages (from torch>=1.8.0->spacy-transformers<1.4.0,>=1.1.2->spacy[transformers]) (2.19.3)\n",
            "Requirement already satisfied: nvidia-nvtx-cu12==12.1.105 in /usr/local/lib/python3.10/dist-packages (from torch>=1.8.0->spacy-transformers<1.4.0,>=1.1.2->spacy[transformers]) (12.1.105)\n",
            "Requirement already satisfied: triton==2.2.0 in /usr/local/lib/python3.10/dist-packages (from torch>=1.8.0->spacy-transformers<1.4.0,>=1.1.2->spacy[transformers]) (2.2.0)\n",
            "Requirement already satisfied: nvidia-nvjitlink-cu12 in /usr/local/lib/python3.10/dist-packages (from nvidia-cusolver-cu12==11.4.5.107->torch>=1.8.0->spacy-transformers<1.4.0,>=1.1.2->spacy[transformers]) (12.4.127)\n",
            "Requirement already satisfied: huggingface-hub<1.0,>=0.19.3 in /usr/local/lib/python3.10/dist-packages (from transformers<4.37.0,>=3.4.0->spacy-transformers<1.4.0,>=1.1.2->spacy[transformers]) (0.20.3)\n",
            "Requirement already satisfied: pyyaml>=5.1 in /usr/local/lib/python3.10/dist-packages (from transformers<4.37.0,>=3.4.0->spacy-transformers<1.4.0,>=1.1.2->spacy[transformers]) (6.0.1)\n",
            "Requirement already satisfied: regex!=2019.12.17 in /usr/local/lib/python3.10/dist-packages (from transformers<4.37.0,>=3.4.0->spacy-transformers<1.4.0,>=1.1.2->spacy[transformers]) (2023.12.25)\n",
            "Requirement already satisfied: tokenizers<0.19,>=0.14 in /usr/local/lib/python3.10/dist-packages (from transformers<4.37.0,>=3.4.0->spacy-transformers<1.4.0,>=1.1.2->spacy[transformers]) (0.15.2)\n",
            "Requirement already satisfied: safetensors>=0.3.1 in /usr/local/lib/python3.10/dist-packages (from transformers<4.37.0,>=3.4.0->spacy-transformers<1.4.0,>=1.1.2->spacy[transformers]) (0.4.3)\n",
            "Requirement already satisfied: mpmath>=0.19 in /usr/local/lib/python3.10/dist-packages (from sympy->torch>=1.8.0->spacy-transformers<1.4.0,>=1.1.2->spacy[transformers]) (1.3.0)\n"
          ]
        }
      ]
    },
    {
      "cell_type": "code",
      "execution_count": 1,
      "metadata": {
        "id": "rE8gT0s4Afdy"
      },
      "outputs": [],
      "source": [
        "import pandas as pd\n",
        "import spacy\n",
        "from spacy.tokens import DocBin\n",
        "from tqdm import tqdm\n",
        "from spacy.util import filter_spans\n",
        "from sklearn.model_selection import train_test_split\n",
        "from datetime import datetime"
      ]
    },
    {
      "cell_type": "code",
      "execution_count": 2,
      "metadata": {
        "id": "oVMR1uO4Afd0"
      },
      "outputs": [],
      "source": [
        "train = pd.read_json('train.jsonl', lines=True)\n",
        "dev = pd.read_json('dev.jsonl', lines=True)\n",
        "test = pd.read_json('test.jsonl', lines=True)\n",
        "\n",
        "train, val = train_test_split(train, test_size=0.2, random_state=42)\n",
        "train.reset_index(inplace=True)\n",
        "val.reset_index(inplace=True)\n",
        "\n",
        "dev.rename(columns={\"senences\": \"sentences\"}, inplace=True)\n",
        "test.rename(columns={\"senences\": \"sentences\"}, inplace=True)"
      ]
    },
    {
      "cell_type": "code",
      "execution_count": 9,
      "metadata": {
        "colab": {
          "base_uri": "https://localhost:8080/",
          "height": 206
        },
        "id": "EMCFN_0qAfd1",
        "outputId": "e7a5c245-4f88-4415-9507-9efc8b31c999"
      },
      "outputs": [
        {
          "output_type": "execute_result",
          "data": {
            "text/plain": [
              "   index                                               ners  \\\n",
              "0    433  [[4, 12, CITY], [64, 82, DATE], [326, 333, CIT...   \n",
              "1    517  [[0, 9, NATIONALITY], [58, 72, PERSON], [101, ...   \n",
              "2    208  [[11, 18, STATE_OR_PROVINCE], [27, 31, NUMBER]...   \n",
              "3    332  [[0, 10, PERSON], [29, 39, PERSON], [45, 47, P...   \n",
              "4    220  [[42, 47, COUNTRY], [66, 72, NATIONALITY], [82...   \n",
              "\n",
              "                                           sentences   id  \n",
              "0  Под Алма-Атой разбился пассажирский самолёт\\n\\...  433  \n",
              "1  Российский магнат устроил самую дорогую свадьб...  517  \n",
              "2  Стрельба в Мичигане: убиты шесть человек\\nКала...  208  \n",
              "3  Юрий Лужков займётся грибами\\nЮрий Лужков\\nЭкс...  332  \n",
              "4  Одолев в четвертьфинале канадцев, сборная Росс...  220  "
            ],
            "text/html": [
              "\n",
              "  <div id=\"df-484a0d03-c35c-411f-b77d-709f9d93a9be\" class=\"colab-df-container\">\n",
              "    <div>\n",
              "<style scoped>\n",
              "    .dataframe tbody tr th:only-of-type {\n",
              "        vertical-align: middle;\n",
              "    }\n",
              "\n",
              "    .dataframe tbody tr th {\n",
              "        vertical-align: top;\n",
              "    }\n",
              "\n",
              "    .dataframe thead th {\n",
              "        text-align: right;\n",
              "    }\n",
              "</style>\n",
              "<table border=\"1\" class=\"dataframe\">\n",
              "  <thead>\n",
              "    <tr style=\"text-align: right;\">\n",
              "      <th></th>\n",
              "      <th>index</th>\n",
              "      <th>ners</th>\n",
              "      <th>sentences</th>\n",
              "      <th>id</th>\n",
              "    </tr>\n",
              "  </thead>\n",
              "  <tbody>\n",
              "    <tr>\n",
              "      <th>0</th>\n",
              "      <td>433</td>\n",
              "      <td>[[4, 12, CITY], [64, 82, DATE], [326, 333, CIT...</td>\n",
              "      <td>Под Алма-Атой разбился пассажирский самолёт\\n\\...</td>\n",
              "      <td>433</td>\n",
              "    </tr>\n",
              "    <tr>\n",
              "      <th>1</th>\n",
              "      <td>517</td>\n",
              "      <td>[[0, 9, NATIONALITY], [58, 72, PERSON], [101, ...</td>\n",
              "      <td>Российский магнат устроил самую дорогую свадьб...</td>\n",
              "      <td>517</td>\n",
              "    </tr>\n",
              "    <tr>\n",
              "      <th>2</th>\n",
              "      <td>208</td>\n",
              "      <td>[[11, 18, STATE_OR_PROVINCE], [27, 31, NUMBER]...</td>\n",
              "      <td>Стрельба в Мичигане: убиты шесть человек\\nКала...</td>\n",
              "      <td>208</td>\n",
              "    </tr>\n",
              "    <tr>\n",
              "      <th>3</th>\n",
              "      <td>332</td>\n",
              "      <td>[[0, 10, PERSON], [29, 39, PERSON], [45, 47, P...</td>\n",
              "      <td>Юрий Лужков займётся грибами\\nЮрий Лужков\\nЭкс...</td>\n",
              "      <td>332</td>\n",
              "    </tr>\n",
              "    <tr>\n",
              "      <th>4</th>\n",
              "      <td>220</td>\n",
              "      <td>[[42, 47, COUNTRY], [66, 72, NATIONALITY], [82...</td>\n",
              "      <td>Одолев в четвертьфинале канадцев, сборная Росс...</td>\n",
              "      <td>220</td>\n",
              "    </tr>\n",
              "  </tbody>\n",
              "</table>\n",
              "</div>\n",
              "    <div class=\"colab-df-buttons\">\n",
              "\n",
              "  <div class=\"colab-df-container\">\n",
              "    <button class=\"colab-df-convert\" onclick=\"convertToInteractive('df-484a0d03-c35c-411f-b77d-709f9d93a9be')\"\n",
              "            title=\"Convert this dataframe to an interactive table.\"\n",
              "            style=\"display:none;\">\n",
              "\n",
              "  <svg xmlns=\"http://www.w3.org/2000/svg\" height=\"24px\" viewBox=\"0 -960 960 960\">\n",
              "    <path d=\"M120-120v-720h720v720H120Zm60-500h600v-160H180v160Zm220 220h160v-160H400v160Zm0 220h160v-160H400v160ZM180-400h160v-160H180v160Zm440 0h160v-160H620v160ZM180-180h160v-160H180v160Zm440 0h160v-160H620v160Z\"/>\n",
              "  </svg>\n",
              "    </button>\n",
              "\n",
              "  <style>\n",
              "    .colab-df-container {\n",
              "      display:flex;\n",
              "      gap: 12px;\n",
              "    }\n",
              "\n",
              "    .colab-df-convert {\n",
              "      background-color: #E8F0FE;\n",
              "      border: none;\n",
              "      border-radius: 50%;\n",
              "      cursor: pointer;\n",
              "      display: none;\n",
              "      fill: #1967D2;\n",
              "      height: 32px;\n",
              "      padding: 0 0 0 0;\n",
              "      width: 32px;\n",
              "    }\n",
              "\n",
              "    .colab-df-convert:hover {\n",
              "      background-color: #E2EBFA;\n",
              "      box-shadow: 0px 1px 2px rgba(60, 64, 67, 0.3), 0px 1px 3px 1px rgba(60, 64, 67, 0.15);\n",
              "      fill: #174EA6;\n",
              "    }\n",
              "\n",
              "    .colab-df-buttons div {\n",
              "      margin-bottom: 4px;\n",
              "    }\n",
              "\n",
              "    [theme=dark] .colab-df-convert {\n",
              "      background-color: #3B4455;\n",
              "      fill: #D2E3FC;\n",
              "    }\n",
              "\n",
              "    [theme=dark] .colab-df-convert:hover {\n",
              "      background-color: #434B5C;\n",
              "      box-shadow: 0px 1px 3px 1px rgba(0, 0, 0, 0.15);\n",
              "      filter: drop-shadow(0px 1px 2px rgba(0, 0, 0, 0.3));\n",
              "      fill: #FFFFFF;\n",
              "    }\n",
              "  </style>\n",
              "\n",
              "    <script>\n",
              "      const buttonEl =\n",
              "        document.querySelector('#df-484a0d03-c35c-411f-b77d-709f9d93a9be button.colab-df-convert');\n",
              "      buttonEl.style.display =\n",
              "        google.colab.kernel.accessAllowed ? 'block' : 'none';\n",
              "\n",
              "      async function convertToInteractive(key) {\n",
              "        const element = document.querySelector('#df-484a0d03-c35c-411f-b77d-709f9d93a9be');\n",
              "        const dataTable =\n",
              "          await google.colab.kernel.invokeFunction('convertToInteractive',\n",
              "                                                    [key], {});\n",
              "        if (!dataTable) return;\n",
              "\n",
              "        const docLinkHtml = 'Like what you see? Visit the ' +\n",
              "          '<a target=\"_blank\" href=https://colab.research.google.com/notebooks/data_table.ipynb>data table notebook</a>'\n",
              "          + ' to learn more about interactive tables.';\n",
              "        element.innerHTML = '';\n",
              "        dataTable['output_type'] = 'display_data';\n",
              "        await google.colab.output.renderOutput(dataTable, element);\n",
              "        const docLink = document.createElement('div');\n",
              "        docLink.innerHTML = docLinkHtml;\n",
              "        element.appendChild(docLink);\n",
              "      }\n",
              "    </script>\n",
              "  </div>\n",
              "\n",
              "\n",
              "<div id=\"df-bb7122ce-5ab9-4c1e-8cc0-fedf20ef6cf0\">\n",
              "  <button class=\"colab-df-quickchart\" onclick=\"quickchart('df-bb7122ce-5ab9-4c1e-8cc0-fedf20ef6cf0')\"\n",
              "            title=\"Suggest charts\"\n",
              "            style=\"display:none;\">\n",
              "\n",
              "<svg xmlns=\"http://www.w3.org/2000/svg\" height=\"24px\"viewBox=\"0 0 24 24\"\n",
              "     width=\"24px\">\n",
              "    <g>\n",
              "        <path d=\"M19 3H5c-1.1 0-2 .9-2 2v14c0 1.1.9 2 2 2h14c1.1 0 2-.9 2-2V5c0-1.1-.9-2-2-2zM9 17H7v-7h2v7zm4 0h-2V7h2v10zm4 0h-2v-4h2v4z\"/>\n",
              "    </g>\n",
              "</svg>\n",
              "  </button>\n",
              "\n",
              "<style>\n",
              "  .colab-df-quickchart {\n",
              "      --bg-color: #E8F0FE;\n",
              "      --fill-color: #1967D2;\n",
              "      --hover-bg-color: #E2EBFA;\n",
              "      --hover-fill-color: #174EA6;\n",
              "      --disabled-fill-color: #AAA;\n",
              "      --disabled-bg-color: #DDD;\n",
              "  }\n",
              "\n",
              "  [theme=dark] .colab-df-quickchart {\n",
              "      --bg-color: #3B4455;\n",
              "      --fill-color: #D2E3FC;\n",
              "      --hover-bg-color: #434B5C;\n",
              "      --hover-fill-color: #FFFFFF;\n",
              "      --disabled-bg-color: #3B4455;\n",
              "      --disabled-fill-color: #666;\n",
              "  }\n",
              "\n",
              "  .colab-df-quickchart {\n",
              "    background-color: var(--bg-color);\n",
              "    border: none;\n",
              "    border-radius: 50%;\n",
              "    cursor: pointer;\n",
              "    display: none;\n",
              "    fill: var(--fill-color);\n",
              "    height: 32px;\n",
              "    padding: 0;\n",
              "    width: 32px;\n",
              "  }\n",
              "\n",
              "  .colab-df-quickchart:hover {\n",
              "    background-color: var(--hover-bg-color);\n",
              "    box-shadow: 0 1px 2px rgba(60, 64, 67, 0.3), 0 1px 3px 1px rgba(60, 64, 67, 0.15);\n",
              "    fill: var(--button-hover-fill-color);\n",
              "  }\n",
              "\n",
              "  .colab-df-quickchart-complete:disabled,\n",
              "  .colab-df-quickchart-complete:disabled:hover {\n",
              "    background-color: var(--disabled-bg-color);\n",
              "    fill: var(--disabled-fill-color);\n",
              "    box-shadow: none;\n",
              "  }\n",
              "\n",
              "  .colab-df-spinner {\n",
              "    border: 2px solid var(--fill-color);\n",
              "    border-color: transparent;\n",
              "    border-bottom-color: var(--fill-color);\n",
              "    animation:\n",
              "      spin 1s steps(1) infinite;\n",
              "  }\n",
              "\n",
              "  @keyframes spin {\n",
              "    0% {\n",
              "      border-color: transparent;\n",
              "      border-bottom-color: var(--fill-color);\n",
              "      border-left-color: var(--fill-color);\n",
              "    }\n",
              "    20% {\n",
              "      border-color: transparent;\n",
              "      border-left-color: var(--fill-color);\n",
              "      border-top-color: var(--fill-color);\n",
              "    }\n",
              "    30% {\n",
              "      border-color: transparent;\n",
              "      border-left-color: var(--fill-color);\n",
              "      border-top-color: var(--fill-color);\n",
              "      border-right-color: var(--fill-color);\n",
              "    }\n",
              "    40% {\n",
              "      border-color: transparent;\n",
              "      border-right-color: var(--fill-color);\n",
              "      border-top-color: var(--fill-color);\n",
              "    }\n",
              "    60% {\n",
              "      border-color: transparent;\n",
              "      border-right-color: var(--fill-color);\n",
              "    }\n",
              "    80% {\n",
              "      border-color: transparent;\n",
              "      border-right-color: var(--fill-color);\n",
              "      border-bottom-color: var(--fill-color);\n",
              "    }\n",
              "    90% {\n",
              "      border-color: transparent;\n",
              "      border-bottom-color: var(--fill-color);\n",
              "    }\n",
              "  }\n",
              "</style>\n",
              "\n",
              "  <script>\n",
              "    async function quickchart(key) {\n",
              "      const quickchartButtonEl =\n",
              "        document.querySelector('#' + key + ' button');\n",
              "      quickchartButtonEl.disabled = true;  // To prevent multiple clicks.\n",
              "      quickchartButtonEl.classList.add('colab-df-spinner');\n",
              "      try {\n",
              "        const charts = await google.colab.kernel.invokeFunction(\n",
              "            'suggestCharts', [key], {});\n",
              "      } catch (error) {\n",
              "        console.error('Error during call to suggestCharts:', error);\n",
              "      }\n",
              "      quickchartButtonEl.classList.remove('colab-df-spinner');\n",
              "      quickchartButtonEl.classList.add('colab-df-quickchart-complete');\n",
              "    }\n",
              "    (() => {\n",
              "      let quickchartButtonEl =\n",
              "        document.querySelector('#df-bb7122ce-5ab9-4c1e-8cc0-fedf20ef6cf0 button');\n",
              "      quickchartButtonEl.style.display =\n",
              "        google.colab.kernel.accessAllowed ? 'block' : 'none';\n",
              "    })();\n",
              "  </script>\n",
              "</div>\n",
              "    </div>\n",
              "  </div>\n"
            ],
            "application/vnd.google.colaboratory.intrinsic+json": {
              "type": "dataframe",
              "variable_name": "train",
              "summary": "{\n  \"name\": \"train\",\n  \"rows\": 415,\n  \"fields\": [\n    {\n      \"column\": \"index\",\n      \"properties\": {\n        \"dtype\": \"number\",\n        \"std\": 147,\n        \"min\": 1,\n        \"max\": 517,\n        \"num_unique_values\": 415,\n        \"samples\": [\n          284,\n          36,\n          183\n        ],\n        \"semantic_type\": \"\",\n        \"description\": \"\"\n      }\n    },\n    {\n      \"column\": \"ners\",\n      \"properties\": {\n        \"dtype\": \"object\",\n        \"semantic_type\": \"\",\n        \"description\": \"\"\n      }\n    },\n    {\n      \"column\": \"sentences\",\n      \"properties\": {\n        \"dtype\": \"string\",\n        \"num_unique_values\": 415,\n        \"samples\": [\n          \"\\u0423\\u043d\\u0438\\u0432\\u0435\\u0440\\u0441\\u0438\\u0442\\u0435\\u0442\\u044b \\u041a\\u0430\\u0442\\u0430\\u043b\\u043e\\u043d\\u0438\\u0438 \\u0432\\u0432\\u043e\\u0434\\u044f\\u0442 \\u043e\\u0431\\u044f\\u0437\\u0430\\u0442\\u0435\\u043b\\u044c\\u043d\\u044b\\u0439 \\u044d\\u043a\\u0437\\u0430\\u043c\\u0435\\u043d \\u043f\\u043e \\u0430\\u043d\\u0433\\u043b\\u0438\\u0439\\u0441\\u043a\\u043e\\u043c\\u0443 \\u044f\\u0437\\u044b\\u043a\\u0443\\n\\n\\u042d\\u043a\\u0437\\u0430\\u043c\\u0435\\u043d\\n\\u041d\\u0430 \\u0441\\u043b\\u0435\\u0434\\u0443\\u044e\\u0449\\u0435\\u0439 \\u043d\\u0435\\u0434\\u0435\\u043b\\u0435 \\u0432 \\u041a\\u0430\\u0442\\u0430\\u043b\\u043e\\u043d\\u0438\\u0438 \\u0441\\u043a\\u043e\\u0440\\u0435\\u0435 \\u0432\\u0441\\u0435\\u0433\\u043e \\u0432\\u0441\\u0442\\u0443\\u043f\\u0438\\u0442 \\u0432 \\u0441\\u0438\\u043b\\u0443 181 \\u0441\\u0442\\u0430\\u0442\\u044c\\u044f \\u043d\\u043e\\u0432\\u043e\\u0433\\u043e \\u0417\\u0430\\u043a\\u043e\\u043d\\u0430 \\u043e\\u0431 \\u043e\\u0431\\u0440\\u0430\\u0437\\u043e\\u0432\\u0430\\u043d\\u0438\\u0438 \\u0418\\u0441\\u043f\\u0430\\u043d\\u0438\\u0438 (), \\u043a\\u043e\\u0442\\u043e\\u0440\\u0430\\u044f \\u043f\\u0440\\u0435\\u0434\\u0443\\u0441\\u043c\\u0430\\u0442\\u0440\\u0438\\u0432\\u0430\\u0435\\u0442 \\u043f\\u0440\\u043e\\u0432\\u0435\\u0434\\u0435\\u043d\\u0438\\u0435 \\u0432 \\u0412\\u0423\\u0417\\u0430\\u0445 \\u0434\\u043e\\u043f\\u043e\\u043b\\u043d\\u0438\\u0442\\u0435\\u043b\\u044c\\u043d\\u043e\\u0433\\u043e \\u044d\\u043a\\u0437\\u0430\\u043c\\u0435\\u043d\\u0430 \\u043f\\u043e \\u0430\\u043d\\u0433\\u043b\\u0438\\u0439\\u0441\\u043a\\u043e\\u043c\\u0443 \\u044f\\u0437\\u044b\\u043a\\u0443 \\u0432 \\u0445\\u043e\\u0434\\u0435 \\u0432\\u0441\\u0442\\u0443\\u043f\\u0438\\u0442\\u0435\\u043b\\u044c\\u043d\\u044b\\u0445 \\u0438\\u0441\\u043f\\u044b\\u0442\\u0430\\u043d\\u0438\\u0439\\n\\u0412\\u043f\\u0440\\u043e\\u0447\\u0435\\u043c, \\u043a\\u0440\\u043e\\u043c\\u0435 \\u0430\\u043d\\u0433\\u043b\\u0438\\u0439\\u0441\\u043a\\u043e\\u0433\\u043e, \\u044d\\u0442\\u043e \\u043c\\u043e\\u0436\\u0435\\u0442 \\u0431\\u044b\\u0442\\u044c \\u043b\\u044e\\u0431\\u043e\\u0439 \\u0434\\u0440\\u0443\\u0433\\u043e\\u0439 \\u0435\\u0432\\u0440\\u043e\\u043f\\u0435\\u0439\\u0441\\u043a\\u0438\\u0439 \\u044f\\u0437\\u044b\\u043a. \\u041f\\u043e\\u0434\\u043e\\u0431\\u043d\\u0430\\u044f \\u043c\\u0435\\u0440\\u0430 \\u0441\\u0432\\u044f\\u0437\\u0430\\u043d\\u0430 \\u0441 \\u0436\\u0435\\u043b\\u0430\\u043d\\u0438\\u0435\\u043c \\u0423\\u043d\\u0438\\u0432\\u0435\\u0440\\u0441\\u0438\\u0442\\u0435\\u0442\\u043e\\u0432 \\u041a\\u0430\\u0442\\u0430\\u043b\\u043e\\u043d\\u0438\\u0438 \\u043f\\u043e\\u0432\\u044b\\u0441\\u0438\\u0442\\u044c \\u043f\\u0440\\u0435\\u0441\\u0442\\u0438\\u0436 \\u0412\\u0423\\u0417\\u043e\\u0432 \\u0438 \\u0432\\u044b\\u0432\\u0435\\u0441\\u0442\\u0438 \\u0438\\u0445 \\u0432 \\u0422\\u041e\\u041f \\u043b\\u0443\\u0447\\u0448\\u0438\\u0445 \\u0423\\u043d\\u0438\\u0432\\u0435\\u0440\\u0441\\u0438\\u0442\\u0435\\u0442\\u043e\\u0432 \\u043c\\u0438\\u0440\\u0430.\\n\\n\\u041e\\u0434\\u043d\\u0430\\u043a\\u043e \\u0442\\u0435 \\u0412\\u0423\\u0417\\u044b, \\u0432\\u044b\\u043f\\u0443\\u0441\\u043a\\u043d\\u0438\\u043a\\u0438 \\u043a\\u043e\\u0442\\u043e\\u0440\\u043e\\u0433\\u043e \\u043d\\u0435 \\u043c\\u043e\\u0433\\u0443\\u0442 \\u043f\\u043e\\u0445\\u0432\\u0430\\u0441\\u0442\\u0430\\u0442\\u044c \\u0441\\u0432\\u043e\\u0431\\u043e\\u0434\\u043d\\u044b\\u043c \\u0432\\u043b\\u0430\\u0434\\u0435\\u043d\\u0438\\u0435\\u043c \\u0430\\u043d\\u0433\\u043b\\u0438\\u0439\\u0441\\u043a\\u0438\\u043c, \\u043d\\u0435 \\u043c\\u043e\\u0433\\u0443\\u0442 \\u0434\\u0430\\u0436\\u0435 \\u043f\\u0440\\u0435\\u0442\\u0435\\u043d\\u0434\\u043e\\u0432\\u0430\\u0442\\u044c \\u043d\\u0430 \\u0432\\u043a\\u043b\\u044e\\u0447\\u0435\\u043d\\u0438\\u0435 \\u0438\\u0445 \\u0432 \\u0441\\u043f\\u0438\\u0441\\u043e\\u043a \\u043b\\u0443\\u0447\\u0448\\u0438\\u0445 \\u0443\\u0447\\u0435\\u0431\\u043d\\u044b\\u0445 \\u0437\\u0430\\u0432\\u0435\\u0434\\u0435\\u043d\\u0438\\u0439.\\n\\n\",\n          \"\\u0412 \\u0418\\u0442\\u0430\\u043b\\u0438\\u0438 \\u0443\\u043c\\u0435\\u0440 \\u0441\\u043e\\u0437\\u0434\\u0430\\u0442\\u0435\\u043b\\u044c \\u00ab\\u043a\\u0438\\u043d\\u0434\\u0435\\u0440-\\u0441\\u044e\\u0440\\u043f\\u0440\\u0438\\u0437\\u0430\\u00bb \\u0423\\u0438\\u043b\\u044c\\u044f\\u043c \\u0421\\u044d\\u043b\\u0438\\u0441\\n\\n\\u0420\\u0430\\u0437\\u043b\\u043e\\u043c\\u043b\\u0435\\u043d\\u043d\\u043e\\u0435 \\u0448\\u043e\\u043a\\u043e\\u043b\\u0430\\u0434\\u043d\\u043e\\u0435 \\u044f\\u0439\\u0446\\u043e \\u00ab\\u041a\\u0438\\u043d\\u0434\\u0435\\u0440-\\u0441\\u044e\\u0440\\u043f\\u0440\\u0438\\u0437\\u0430\\u00bb\\n\\u0412 \\u0418\\u0442\\u0430\\u043b\\u0438\\u0438 \\u0432 \\u0432\\u043e\\u0437\\u0440\\u0430\\u0441\\u0442\\u0435 83 \\u043b\\u0435\\u0442 \\u0441\\u043a\\u043e\\u043d\\u0447\\u0430\\u043b\\u0441\\u044f \\u0423\\u0438\\u043b\\u044c\\u044f\\u043c \\u0421\\u044d\\u043b\\u0438\\u0441 (), \\u0438\\u0437\\u0432\\u0435\\u0441\\u0442\\u043d\\u044b\\u0439 \\u0442\\u0435\\u043c, \\u0447\\u0442\\u043e \\u0432 \\u043d\\u0430\\u0447\\u0430\\u043b\\u0435 1970-\\u0445 \\u0433\\u043e\\u0434\\u043e\\u0432 \\u043f\\u0440\\u0438\\u0434\\u0443\\u043c\\u0430\\u043b \\u00ab\\u043a\\u0438\\u043d\\u0434\\u0435\\u0440-\\u0441\\u044e\\u0440\\u043f\\u0440\\u0438\\u0437\\u00bb.\\n\\u041e\\u043d \\u0443\\u043c\\u0435\\u0440 \\u0432 \\u0447\\u0435\\u0442\\u0432\\u0435\\u0440\\u0433, 29 \\u0434\\u0435\\u043a\\u0430\\u0431\\u0440\\u044f 2016 \\u0433\\u043e\\u0434\\u0430, \\u043e\\u0442 \\u0441\\u0435\\u0440\\u0434\\u0435\\u0447\\u043d\\u043e\\u0433\\u043e \\u043f\\u0440\\u0438\\u0441\\u0442\\u0443\\u043f\\u0430 \\u0432 \\u0433\\u043e\\u0440\\u043e\\u0434\\u0435 \\u041f\\u0430\\u0432\\u0438\\u044f.\\n\\n\\u0421\\u044d\\u043b\\u0438\\u0441, \\u043e\\u0434\\u0438\\u043d \\u0438\\u0437 \\u0440\\u0443\\u043a\\u043e\\u0432\\u043e\\u0434\\u0438\\u0442\\u0435\\u043b\\u0435\\u0439 \\u043a\\u043e\\u043c\\u043f\\u0430\\u043d\\u0438\\u0438 ''Ferrero'' \\u0438 \\u0441\\u043e\\u0437\\u0434\\u0430\\u0442\\u0435\\u043b\\u044c \\u043a\\u043e\\u043d\\u0444\\u0435\\u0442 ''Ferrero Rocher'', \\u0432\\u044b\\u043f\\u0443\\u0441\\u0442\\u0438\\u043b \\u00ab\\u043a\\u0438\\u043d\\u0434\\u0435\\u0440-\\u0441\\u044e\\u0440\\u043f\\u0440\\u0438\\u0437\\u00bb \\u0432 \\u043f\\u0440\\u043e\\u0434\\u0430\\u0436\\u0443 \\u0432 1974 \\u0433\\u043e\\u0434\\u0443.\\n\\u041b\\u0430\\u043a\\u043e\\u043c\\u0441\\u0442\\u0432\\u043e \\u0441\\u0442\\u0430\\u043b\\u043e \\u0432\\u0430\\u0440\\u0438\\u0430\\u0446\\u0438\\u0435\\u0439 \\u043d\\u0430 \\u0442\\u0435\\u043c\\u0443 \\u0442\\u0440\\u0430\\u0434\\u0438\\u0446\\u0438\\u043e\\u043d\\u043d\\u044b\\u0445 \\u0432 \\u0418\\u0442\\u0430\\u043b\\u0438\\u0438 \\u043f\\u0430\\u0441\\u0445\\u0430\\u043b\\u044c\\u043d\\u044b\\u0445 \\u0448\\u043e\\u043a\\u043e\\u043b\\u0430\\u0434\\u043d\\u044b\\u0445 \\u044f\\u0438\\u0446.\\n\\n\\u0412 2007 \\u0433\\u043e\\u0434\\u0443 \\u0421\\u044d\\u043b\\u0438\\u0441 \\u0443\\u0448\\u0435\\u043b \\u043d\\u0430 \\u043f\\u0435\\u043d\\u0441\\u0438\\u044e \\u0441 \\u0431\\u043e\\u043d\\u0443\\u0441\\u043e\\u043c \\u0432  \\u0435\\u0432\\u0440\\u043e.\\n\\u041f\\u043e\\u0441\\u043b\\u0435 \\u044d\\u0442\\u043e\\u0433\\u043e \\u043a\\u043e\\u043d\\u0434\\u0438\\u0442\\u0435\\u0440 \\u0432\\u043b\\u043e\\u0436\\u0438\\u043b \\u0447\\u0430\\u0441\\u0442\\u044c \\u0437\\u0430\\u0440\\u0430\\u0431\\u043e\\u0442\\u0430\\u043d\\u043d\\u044b\\u0445 \\u0434\\u0435\\u043d\\u0435\\u0433 \\u0432 \\u0431\\u043b\\u0430\\u0433\\u043e\\u0442\\u0432\\u043e\\u0440\\u0438\\u0442\\u0435\\u043b\\u044c\\u043d\\u044b\\u0439 \\u0444\\u043e\\u043d\\u0434 ''Color Your Life'', \\u043a\\u043e\\u0442\\u043e\\u0440\\u044b\\u0439 \\u0437\\u0430\\u043d\\u0438\\u043c\\u0430\\u0435\\u0442\\u0441\\u044f \\u0440\\u0430\\u0437\\u0432\\u0438\\u0442\\u0438\\u0435\\u043c \\u0438 \\u043e\\u0431\\u0443\\u0447\\u0435\\u043d\\u0438\\u0435\\u043c \\u0434\\u0435\\u0442\\u0435\\u0439 \\u043e\\u0442 13 \\u0434\\u043e 18 \\u043b\\u0435\\u0442.\\n\\n\",\n          \"\\u0410\\u043d\\u0434\\u0440\\u0435\\u0439 \\u0422\\u0438\\u0445\\u043e\\u043d\\u043e\\u0432 \\u043f\\u043e\\u0431\\u0438\\u043b \\u0440\\u0435\\u043a\\u043e\\u0440\\u0434, \\u0443\\u0441\\u0442\\u0430\\u043d\\u043e\\u0432\\u043b\\u0435\\u043d\\u043d\\u044b\\u0439 60 \\u043b\\u0435\\u0442 \\u043d\\u0430\\u0437\\u0430\\u0434\\n\\n40-\\u043b\\u0435\\u0442\\u043d\\u0438\\u0439 \\u043f\\u043e\\u043b\\u0443\\u0437\\u0430\\u0449\\u0438\\u0442\\u043d\\u0438\\u043a \\u043c\\u043e\\u0441\\u043a\\u043e\\u0432\\u0441\\u043a\\u043e\\u0433\\u043e \\u00ab\\u0421\\u043f\\u0430\\u0440\\u0442\\u0430\\u043a\\u0430\\u00bb \\u0410\\u043d\\u0434\\u0440\\u0435\\u0439 \\u0422\\u0438\\u0445\\u043e\\u043d\\u043e\\u0432 20 \\u0430\\u043f\\u0440\\u0435\\u043b\\u044f \\u0432\\u044b\\u0448\\u0435\\u043b \\u043d\\u0430 \\u043f\\u043e\\u043b\\u0435 \\u0432 \\u043a\\u0443\\u0431\\u043a\\u043e\\u0432\\u043e\\u043c \\u043c\\u0430\\u0442\\u0447\\u0435 \\u0441 \\u00ab\\u041a\\u0440\\u0430\\u0441\\u043d\\u043e\\u0434\\u0430\\u0440\\u043e\\u043c\\u00bb \\u0438 \\u0441\\u0442\\u0430\\u043b \\u0441\\u0430\\u043c\\u044b\\u043c \\u0432\\u043e\\u0437\\u0440\\u0430\\u0441\\u0442\\u043d\\u044b\\u043c \\u0438\\u0433\\u0440\\u043e\\u043a\\u043e\\u043c \\u043a\\u0440\\u0430\\u0441\\u043d\\u043e-\\u0431\\u0435\\u043b\\u044b\\u0445 \\u0438\\u0437 \\u0432\\u0441\\u0435\\u0445 \\u043a\\u043e\\u0433\\u0434\\u0430-\\u043b\\u0438\\u0431\\u043e \\u0443\\u0447\\u0430\\u0441\\u0442\\u0432\\u043e\\u0432\\u0430\\u0432\\u0448\\u0438\\u0445 \\u0432 \\u043c\\u0430\\u0442\\u0447\\u0430\\u0445 \\u043a\\u043e\\u043c\\u0430\\u043d\\u0434\\u044b. \\u041f\\u0440\\u0435\\u0436\\u043d\\u0438\\u0439 \\u0440\\u0435\\u043a\\u043e\\u0440\\u0434 \\u043f\\u0440\\u0438\\u043d\\u0430\\u0434\\u043b\\u0435\\u0436\\u0430\\u043b \\u0412\\u0430\\u0441\\u0438\\u043b\\u0438\\u044e \\u0421\\u043e\\u043a\\u043e\\u043b\\u043e\\u0432\\u0443, \\u043a\\u043e\\u0442\\u043e\\u0440\\u044b\\u0439 \\u0432 1951 \\u0433\\u043e\\u0434\\u0443 \\u0438\\u0433\\u0440\\u0430\\u043b \\u0437\\u0430 \\u043a\\u043b\\u0443\\u0431 \\u0432 39-\\u043b\\u0435\\u0442\\u043d\\u0435\\u043c \\u0432\\u043e\\u0437\\u0440\\u0430\\u0441\\u0442\\u0435. \\u0412 \\u0441\\u0432\\u043e\\u0451\\u043c \\u0438\\u043d\\u0442\\u0435\\u0440\\u0432\\u044c\\u044e \\u00ab\\u0421\\u043f\\u043e\\u0440\\u0442-\\u042d\\u043a\\u0441\\u043f\\u0440\\u0435\\u0441\\u0441\\u0443\\u00bb \\u0422\\u0438\\u0445\\u043e\\u043d\\u043e\\u0432 \\u043d\\u0430\\u043a\\u0430\\u043d\\u0443\\u043d\\u0435 \\u043c\\u0430\\u0442\\u0447\\u0430 \\u043f\\u0440\\u0438\\u0437\\u043d\\u0430\\u043b\\u0441\\u044f: \\u00ab\\u041f\\u0440\\u0438\\u044f\\u0442\\u043d\\u043e, \\u0435\\u0441\\u043b\\u0438 \\u0447\\u0435\\u043c-\\u0442\\u043e \\u0437\\u0430\\u043f\\u043e\\u043c\\u043d\\u044e\\u0441\\u044c \\u0438 \\u0432\\u043e\\u0439\\u0434\\u0443 \\u0432 \\u0438\\u0441\\u0442\\u043e\\u0440\\u0438\\u044e. \\u0421\\u0430\\u043c\\u043e\\u0435 \\u0433\\u043b\\u0430\\u0432\\u043d\\u043e\\u0435\\u00a0\\u2014 \\u0447\\u0442\\u043e\\u0431 \\u043d\\u0430 \\u043f\\u043e\\u043b\\u0435 \\u043d\\u0438\\u0447\\u0435\\u0433\\u043e \\u043d\\u0435 \\u0438\\u0441\\u043f\\u043e\\u0440\\u0442\\u0438\\u043b. \\u0410 \\u0441 \\u043f\\u0435\\u0440\\u0432\\u044b\\u0445 \\u043c\\u0438\\u043d\\u0443\\u0442 \\u0432\\u044b\\u0439\\u0434\\u0443 \\u0438\\u043b\\u0438 \\u043d\\u0430 \\u0437\\u0430\\u043c\\u0435\\u043d\\u0443\\u00a0\\u2014 \\u043d\\u0435 \\u0441\\u0442\\u043e\\u043b\\u044c \\u0432\\u0430\\u0436\\u043d\\u043e. \\u041f\\u043e\\u043a\\u0430 \\u044d\\u0442\\u0443 \\u0442\\u0435\\u043c\\u0443 \\u0441 \\u0442\\u0440\\u0435\\u043d\\u0435\\u0440\\u043e\\u043c \\u043d\\u0435 \\u043e\\u0431\\u0441\\u0443\\u0436\\u0434\\u0430\\u043b\\u0438\\u00bb.\\n\\n\\u0421\\u0442\\u043e\\u0438\\u0442 \\u043e\\u0442\\u043c\\u0435\\u0442\\u0438\\u0442\\u044c, \\u0447\\u0442\\u043e \\u043f\\u0440\\u0435\\u0434\\u044b\\u0434\\u0443\\u0449\\u0438\\u0439 \\u043c\\u0430\\u0442\\u0447, \\u0432 \\u043a\\u043e\\u0442\\u043e\\u0440\\u043e\\u043c \\u0422\\u0438\\u0445\\u043e\\u043d\\u043e\\u0432 \\u0432\\u044b\\u0445\\u043e\\u0434\\u0438\\u043b \\u043d\\u0430 \\u043f\\u043e\\u043b\\u0435 \\u0432 \\u0441\\u043e\\u0441\\u0442\\u0430\\u0432\\u0435 \\u00ab\\u0421\\u043f\\u0430\\u0440\\u0442\\u0430\\u043a\\u0430\\u00bb, \\u0441\\u043e\\u0441\\u0442\\u043e\\u044f\\u043b\\u0441\\u044f \\u0431\\u043e\\u043b\\u0435\\u0435 10 \\u043b\\u0435\\u0442 \\u043d\\u0430\\u0437\\u0430\\u0434, 20 \\u0441\\u0435\\u043d\\u0442\\u044f\\u0431\\u0440\\u044f 2000 \\u0433\\u043e\\u0434\\u0430. \\u0422\\u043e\\u0433\\u0434\\u0430 \\u043a\\u0440\\u0430\\u0441\\u043d\\u043e-\\u0431\\u0435\\u043b\\u044b\\u0435 \\u0432\\u0441\\u0442\\u0440\\u0435\\u0442\\u0438\\u043b\\u0438\\u0441\\u044c \\u0441 \\u00ab\\u0420\\u0435\\u0430\\u043b\\u043e\\u043c\\u00bb \\u0432 \\u041c\\u0430\\u0434\\u0440\\u0438\\u0434\\u0435. \\u0417\\u0430\\u0442\\u0435\\u043c \\u0422\\u0438\\u0445\\u043e\\u043d\\u043e\\u0432 \\u0431\\u044b\\u043b \\u043e\\u0442\\u0447\\u0438\\u0441\\u043b\\u0435\\u043d \\u0438\\u0437 \\u043a\\u043e\\u043c\\u0430\\u043d\\u0434\\u044b \\u0438 \\u0432 \\u043f\\u043e\\u0441\\u043b\\u0435\\u0434\\u0443\\u044e\\u0449\\u0438\\u0435 \\u0433\\u043e\\u0434\\u044b \\u0438\\u0433\\u0440\\u0430\\u043b \\u0432 \\u0441\\u043e\\u0441\\u0442\\u0430\\u0432\\u0435 \\u0434\\u0440\\u0443\\u0433\\u0438\\u0445 \\u043a\\u043e\\u043c\\u0430\\u043d\\u0434. \\u0412 \\u0444\\u0435\\u0432\\u0440\\u0430\\u043b\\u0435 \\u043d\\u044b\\u043d\\u0435\\u0448\\u043d\\u0435\\u0433\\u043e \\u0433\\u043e\\u0434\\u0430 \\u0435\\u0433\\u043e \\u0441\\u043d\\u043e\\u0432\\u0430 \\u043f\\u0440\\u0438\\u0433\\u043b\\u0430\\u0441\\u0438\\u043b\\u0438 \\u0432 \\u00ab\\u0421\\u043f\\u0430\\u0440\\u0442\\u0430\\u043a\\u00bb \\u043d\\u0430 \\u0434\\u043e\\u043b\\u0436\\u043d\\u043e\\u0441\\u0442\\u044c \\u0438\\u0433\\u0440\\u0430\\u044e\\u0449\\u0435\\u0433\\u043e \\u0442\\u0440\\u0435\\u043d\\u0435\\u0440\\u0430.\\n\\n\\u041c\\u0430\\u0442\\u0447 \\u00ab\\u0421\\u043f\\u0430\\u0440\\u0442\\u0430\\u043a\\u00bb\\u00a0\\u2014 \\u00ab\\u041a\\u0440\\u0430\\u0441\\u043d\\u043e\\u0434\\u0430\\u0440\\u00bb \\u043f\\u0440\\u043e\\u0448\\u0451\\u043b 20 \\u0430\\u043f\\u0440\\u0435\\u043b\\u044f \\u043d\\u0430 \\u0441\\u0442\\u0430\\u0434\\u0438\\u043e\\u043d\\u0435 \\u00ab\\u041b\\u0443\\u0436\\u043d\\u0438\\u043a\\u0438\\u00bb. \\u0421\\u043f\\u0430\\u0440\\u0442\\u0430\\u043a\\u043e\\u0432\\u0446\\u044b \\u043e\\u0434\\u0435\\u0440\\u0436\\u0430\\u043b\\u0438 \\u043f\\u043e\\u0431\\u0435\\u0434\\u0443 \\u0441\\u043e \\u0441\\u0447\\u0451\\u0442\\u043e\\u043c 2:1 \\u0438 \\u0432\\u044b\\u0448\\u043b\\u0438 \\u0432 \\u043f\\u043e\\u043b\\u0443\\u0444\\u0438\\u043d\\u0430\\u043b \\u041a\\u0443\\u0431\\u043a\\u0430 \\u0420\\u043e\\u0441\\u0441\\u0438\\u0438. \\u0411\\u043e\\u043b\\u0435\\u043b\\u044c\\u0449\\u0438\\u043a\\u0438 \\u043f\\u0440\\u0438\\u0432\\u0435\\u0442\\u0441\\u0442\\u0432\\u043e\\u0432\\u0430\\u043b\\u0438 \\u0432\\u044b\\u0448\\u0435\\u0434\\u0448\\u0435\\u0433\\u043e \\u043d\\u0430 \\u043f\\u043e\\u043b\\u0435 \\u0422\\u0438\\u0445\\u043e\\u043d\\u043e\\u0432\\u0430 \\u0431\\u0430\\u043d\\u043d\\u0435\\u0440\\u0430\\u043c\\u0438 \\u00ab\\u0412\\u0435\\u043b\\u0438\\u043a\\u0438\\u0439 \\u043a\\u0430\\u043f\\u0438\\u0442\\u0430\\u043d \\u0432\\u0435\\u043b\\u0438\\u043a\\u043e\\u0439 \\u043a\\u043e\\u043c\\u0430\\u043d\\u0434\\u044b!\\u00bb, \\u00ab\\u0412\\u043e\\u0437\\u0432\\u0440\\u0430\\u0449\\u0435\\u043d\\u0438\\u0435 \\u043b\\u0435\\u0433\\u0435\\u043d\\u0434\\u044b\\u00bb, \\u00ab\\u0422\\u044b \\u043d\\u0430\\u0432\\u0441\\u0435\\u0433\\u0434\\u0430 \\u043d\\u0430\\u0448 \\u043a\\u0430\\u043f\\u0438\\u0442\\u0430\\u043d!\\u00bb, \\u00ab\\u0422\\u0438\\u0448\\u0430, \\u043f\\u043e\\u0434\\u0430\\u0440\\u0438 \\u043d\\u0430\\u043c \\u0441\\u0447\\u0430\\u0441\\u0442\\u044c\\u0435!\\u00bb, \\u00ab\\u0422\\u0438\\u0445\\u043e\\u043d\\u043e\\u0432\\u00a0\\u2014 \\u043d\\u0430\\u0432\\u0441\\u0435\\u0433\\u0434\\u0430!\\u00bb \\u043d\\u0430 \\u0444\\u043e\\u043d\\u0435 \\u043a\\u0440\\u0430\\u0441\\u043d\\u043e-\\u0431\\u0435\\u043b\\u043e\\u0433\\u043e \\u0441\\u0435\\u0440\\u0434\\u0446\\u0430. \\u0412 \\u044d\\u0442\\u043e\\u0439 \\u0432\\u0441\\u0442\\u0440\\u0435\\u0447\\u0435 \\u0441\\u0442\\u043e\\u043b\\u0438\\u0447\\u043d\\u043e\\u0439 \\u043a\\u043e\\u043c\\u0430\\u043d\\u0434\\u043e\\u0439 \\u0434\\u043e\\u043b\\u0436\\u0435\\u043d \\u0431\\u044b\\u043b \\u0432 \\u043f\\u043e\\u0441\\u043b\\u0435\\u0434\\u043d\\u0438\\u0439 \\u0440\\u0430\\u0437 \\u0440\\u0443\\u043a\\u043e\\u0432\\u043e\\u0434\\u0438\\u0442\\u044c \\u041a\\u0430\\u0440\\u043f\\u0438\\u043d, \\u043a\\u043e\\u0442\\u043e\\u0440\\u044b\\u0439 18 \\u0430\\u043f\\u0440\\u0435\\u043b\\u044f \\u043f\\u043e\\u0434\\u0430\\u043b \\u0432 \\u043e\\u0442\\u0441\\u0442\\u0430\\u0432\\u043a\\u0443 \\u0441 \\u043f\\u043e\\u0441\\u0442\\u0430 \\u0433\\u043b\\u0430\\u0432\\u043d\\u043e\\u0433\\u043e \\u0442\\u0440\\u0435\\u043d\\u0435\\u0440\\u0430. \\u041e\\u0434\\u043d\\u0430\\u043a\\u043e \\u043f\\u043e\\u0441\\u043b\\u0435 \\u043c\\u0430\\u0442\\u0447\\u0430 \\u0432 \\u0440\\u0430\\u0437\\u0434\\u0435\\u0432\\u0430\\u043b\\u043a\\u0443 \\u043a \\u0438\\u0433\\u0440\\u043e\\u043a\\u0430\\u043c \\u0437\\u0430\\u0448\\u0451\\u043b \\u0434\\u0438\\u0440\\u0435\\u043a\\u0442\\u043e\\u0440 \\u043a\\u043b\\u0443\\u0431\\u0430 \\u041b\\u0435\\u043e\\u043d\\u0438\\u0434 \\u0424\\u0435\\u0434\\u0443\\u043d, \\u0447\\u0442\\u043e\\u0431\\u044b \\u043f\\u043e\\u0437\\u0434\\u0440\\u0430\\u0432\\u0438\\u0442\\u044c \\u041a\\u0430\\u0440\\u043f\\u0438\\u043d\\u0430 \\u0441 \\u043f\\u043e\\u0431\\u0435\\u0434\\u043e\\u0439, \\u0430 \\u0422\\u0438\\u0445\\u043e\\u043d\\u043e\\u0432\\u0430\\u00a0\\u2014 \\u0441 \\u0440\\u0435\\u043a\\u043e\\u0440\\u0434\\u043e\\u043c \\u0438 \\u0445\\u043e\\u0440\\u043e\\u0448\\u0435\\u0439 \\u0438\\u0433\\u0440\\u043e\\u0439, \\u043f\\u043e\\u0441\\u043b\\u0435 \\u0447\\u0435\\u0433\\u043e \\u0441\\u043e\\u043e\\u0431\\u0449\\u0438\\u043b, \\u0447\\u0442\\u043e \\u043a \\u0441\\u043b\\u0435\\u0434\\u0443\\u044e\\u0449\\u0435\\u043c\\u0443 \\u043c\\u0430\\u0442\\u0447\\u0443 \\u0441\\u043e \\u00ab\\u0421\\u043f\\u0430\\u0440\\u0442\\u0430\\u043a\\u043e\\u043c\\u00bb \\u0438\\u0437 \\u041d\\u0430\\u043b\\u044c\\u0447\\u0438\\u043a\\u0430 \\u043a\\u043e\\u043c\\u0430\\u043d\\u0434\\u0443 \\u0432\\u043d\\u043e\\u0432\\u044c \\u0431\\u0443\\u0434\\u0435\\u0442 \\u0433\\u043e\\u0442\\u043e\\u0432\\u0438\\u0442\\u044c \\u0412\\u0430\\u043b\\u0435\\u0440\\u0438\\u0439 \\u041a\\u0430\\u0440\\u043f\\u0438\\u043d.\\n\\n\\u0421\\u0442\\u043e\\u0438\\u0442 \\u043e\\u0442\\u043c\\u0435\\u0442\\u0438\\u0442\\u044c, \\u0447\\u0442\\u043e \\u043f\\u043e\\u0441\\u043b\\u0435 \\u0444\\u0438\\u043d\\u0430\\u043b\\u044c\\u043d\\u043e\\u0433\\u043e \\u0441\\u0432\\u0438\\u0441\\u0442\\u043a\\u0430 \\u0432 \\u043c\\u0430\\u0442\\u0447\\u0435 \\u0441\\u043f\\u0430\\u0440\\u0442\\u0430\\u043a\\u043e\\u0432\\u0446\\u044b \\u043d\\u0435\\u043e\\u0434\\u043d\\u043e\\u0437\\u043d\\u0430\\u0447\\u043d\\u043e \\u0432\\u044b\\u043a\\u0430\\u0437\\u0430\\u043b\\u0438 \\u0441\\u0432\\u043e\\u0451 \\u043d\\u0435\\u0436\\u0435\\u043b\\u0430\\u043d\\u0438\\u0435 \\u0440\\u0430\\u0441\\u0441\\u0442\\u0430\\u0432\\u0430\\u0442\\u044c\\u0441\\u044f \\u0441 \\u043b\\u044e\\u0431\\u0438\\u043c\\u044b\\u043c \\u0442\\u0440\\u0435\\u043d\\u0435\\u0440\\u043e\\u043c, \\u043e\\u0431\\u043b\\u0430\\u0447\\u0438\\u0432\\u0448\\u0438\\u0441\\u044c \\u0432 \\u0431\\u0435\\u043b\\u044b\\u0435 \\u0444\\u0443\\u0442\\u0431\\u043e\\u043b\\u043a\\u0438 \\u0441 \\u0438\\u0437\\u043e\\u0431\\u0440\\u0430\\u0436\\u0435\\u043d\\u0438\\u0435\\u043c \\u0412\\u0430\\u043b\\u0435\\u0440\\u0438\\u044f \\u041a\\u0430\\u0440\\u043f\\u0438\\u043d\\u0430 \\u0438 \\u043d\\u0430\\u0434\\u043f\\u0438\\u0441\\u044c\\u044e \\u00ab\\u041c\\u044b \\u0432\\u043c\\u0435\\u0441\\u0442\\u0435!\\u00bb.\\n\"\n        ],\n        \"semantic_type\": \"\",\n        \"description\": \"\"\n      }\n    },\n    {\n      \"column\": \"id\",\n      \"properties\": {\n        \"dtype\": \"number\",\n        \"std\": 147,\n        \"min\": 1,\n        \"max\": 517,\n        \"num_unique_values\": 415,\n        \"samples\": [\n          284,\n          36,\n          183\n        ],\n        \"semantic_type\": \"\",\n        \"description\": \"\"\n      }\n    }\n  ]\n}"
            }
          },
          "metadata": {},
          "execution_count": 9
        }
      ],
      "source": [
        "train.head()"
      ]
    },
    {
      "cell_type": "code",
      "execution_count": 10,
      "metadata": {
        "id": "rYJptLHuAfd2"
      },
      "outputs": [],
      "source": [
        "with open('base_config.cfg', 'w') as f:\n",
        "    f.write(\"\"\"\n",
        "# This is an auto-generated partial config. To use it with 'spacy train'\n",
        "# you can run spacy init fill-config to auto-fill all default settings:\n",
        "# python -m spacy init fill-config ./base_config.cfg ./config.cfg\n",
        "[paths]\n",
        "train = null\n",
        "dev = null\n",
        "vectors = null\n",
        "[system]\n",
        "gpu_allocator = \"pytorch\"\n",
        "\n",
        "[nlp]\n",
        "lang = \"ru\"\n",
        "pipeline = [\"transformer\",\"ner\"]\n",
        "batch_size = 1\n",
        "\n",
        "[components]\n",
        "\n",
        "[components.transformer]\n",
        "factory = \"transformer\"\n",
        "\n",
        "[components.transformer.model]\n",
        "@architectures = \"spacy-transformers.TransformerModel.v3\"\n",
        "name = \"bert-base-multilingual-uncased\"\n",
        "tokenizer_config = {\"use_fast\": true}\n",
        "\n",
        "[components.transformer.model.get_spans]\n",
        "@span_getters = \"spacy-transformers.strided_spans.v1\"\n",
        "window = 128\n",
        "stride = 96\n",
        "\n",
        "[components.ner]\n",
        "factory = \"ner\"\n",
        "\n",
        "[components.ner.model]\n",
        "@architectures = \"spacy.TransitionBasedParser.v2\"\n",
        "state_type = \"ner\"\n",
        "extra_state_tokens = false\n",
        "hidden_width = 32\n",
        "maxout_pieces = 2\n",
        "use_upper = false\n",
        "nO = null\n",
        "\n",
        "[components.ner.model.tok2vec]\n",
        "@architectures = \"spacy-transformers.TransformerListener.v1\"\n",
        "grad_factor = 1.0\n",
        "\n",
        "[components.ner.model.tok2vec.pooling]\n",
        "@layers = \"reduce_mean.v1\"\n",
        "\n",
        "[corpora]\n",
        "\n",
        "[corpora.train]\n",
        "@readers = \"spacy.Corpus.v1\"\n",
        "path = ${paths.train}\n",
        "max_length = 0\n",
        "\n",
        "[corpora.dev]\n",
        "@readers = \"spacy.Corpus.v1\"\n",
        "path = ${paths.dev}\n",
        "max_length = 0\n",
        "\n",
        "[training]\n",
        "accumulate_gradient = 3\n",
        "dev_corpus = \"corpora.dev\"\n",
        "train_corpus = \"corpora.train\"\n",
        "\n",
        "[training.optimizer]\n",
        "@optimizers = \"Adam.v1\"\n",
        "\n",
        "[training.optimizer.learn_rate]\n",
        "@schedules = \"warmup_linear.v1\"\n",
        "warmup_steps = 250\n",
        "total_steps = 20000\n",
        "initial_rate = 5e-5\n",
        "\n",
        "[training.batcher]\n",
        "@batchers = \"spacy.batch_by_padded.v1\"\n",
        "discard_oversize = true\n",
        "size = 1000\n",
        "buffer = 64\n",
        "\n",
        "[initialize]\n",
        "vectors = ${paths.vectors}\n",
        "\"\"\")"
      ]
    },
    {
      "cell_type": "code",
      "execution_count": 11,
      "metadata": {
        "colab": {
          "base_uri": "https://localhost:8080/"
        },
        "id": "Q32f6vs4Afd3",
        "outputId": "08e81b88-119e-49e6-fe28-31cf9a603e7f"
      },
      "outputs": [
        {
          "output_type": "stream",
          "name": "stdout",
          "text": [
            "/usr/local/lib/python3.10/dist-packages/transformers/utils/generic.py:441: UserWarning: torch.utils._pytree._register_pytree_node is deprecated. Please use torch.utils._pytree.register_pytree_node instead.\n",
            "  _torch_pytree._register_pytree_node(\n",
            "/usr/local/lib/python3.10/dist-packages/transformers/utils/generic.py:309: UserWarning: torch.utils._pytree._register_pytree_node is deprecated. Please use torch.utils._pytree.register_pytree_node instead.\n",
            "  _torch_pytree._register_pytree_node(\n",
            "\u001b[38;5;2m✔ Auto-filled config with all values\u001b[0m\n",
            "\u001b[38;5;2m✔ Saved config\u001b[0m\n",
            "config.cfg\n",
            "You can now add your data and train your pipeline:\n",
            "python -m spacy train config.cfg --paths.train ./train.spacy --paths.dev ./dev.spacy\n"
          ]
        }
      ],
      "source": [
        "!python -m spacy init fill-config base_config.cfg config.cfg"
      ]
    },
    {
      "cell_type": "code",
      "execution_count": 12,
      "metadata": {
        "id": "D0IUGAd1Afd4"
      },
      "outputs": [],
      "source": [
        "nlp = spacy.blank(\"ru\")\n",
        "doc_bin = DocBin()"
      ]
    },
    {
      "cell_type": "code",
      "execution_count": 13,
      "metadata": {
        "id": "Qqa4cy74Afd4"
      },
      "outputs": [],
      "source": [
        "def prepare_dataset(data, out_name=\"./training_data.spacy\"):\n",
        "    skipped = 0\n",
        "    for _, row in tqdm(data.iterrows()):\n",
        "        tokens = row['sentences']\n",
        "        doc = nlp.make_doc(tokens)\n",
        "        ents = []\n",
        "        index = 0\n",
        "        for ner in row['ners']:\n",
        "            start, end, label = ner\n",
        "            span = doc.char_span(start, end+1, label=label, alignment_mode=\"contract\")\n",
        "\n",
        "            if span is None or span.text != span.text.strip():\n",
        "                skipped += 1\n",
        "                continue\n",
        "            ents.append(span)\n",
        "        filtered_ents = filter_spans(ents)\n",
        "        doc.ents = filtered_ents\n",
        "        doc_bin.add(doc)\n",
        "\n",
        "    print(skipped)\n",
        "    doc_bin.to_disk(out_name)"
      ]
    },
    {
      "cell_type": "code",
      "execution_count": 14,
      "metadata": {
        "colab": {
          "base_uri": "https://localhost:8080/"
        },
        "id": "ZCg3Q4SWAfd5",
        "outputId": "d370f6e1-20e2-46a5-edda-69aaa796682f"
      },
      "outputs": [
        {
          "output_type": "stream",
          "name": "stderr",
          "text": [
            "415it [00:04, 100.36it/s]\n"
          ]
        },
        {
          "output_type": "stream",
          "name": "stdout",
          "text": [
            "146\n"
          ]
        },
        {
          "output_type": "stream",
          "name": "stderr",
          "text": [
            "104it [00:00, 106.24it/s]\n"
          ]
        },
        {
          "output_type": "stream",
          "name": "stdout",
          "text": [
            "29\n"
          ]
        }
      ],
      "source": [
        "prepare_dataset(train, \"./training_data.spacy\")\n",
        "prepare_dataset(val, \"./validation_data.spacy\")"
      ]
    },
    {
      "cell_type": "code",
      "execution_count": 15,
      "metadata": {
        "colab": {
          "base_uri": "https://localhost:8080/"
        },
        "id": "sGPa_o33Afd5",
        "outputId": "094b9bbf-85fc-4c94-9ee0-53989a740e90"
      },
      "outputs": [
        {
          "output_type": "stream",
          "name": "stdout",
          "text": [
            "\u001b[38;5;4mℹ Saving to output directory: .\u001b[0m\n",
            "\u001b[38;5;4mℹ Using GPU: 0\u001b[0m\n",
            "\u001b[1m\n",
            "=========================== Initializing pipeline ===========================\u001b[0m\n",
            "/usr/local/lib/python3.10/dist-packages/transformers/utils/generic.py:441: UserWarning: torch.utils._pytree._register_pytree_node is deprecated. Please use torch.utils._pytree.register_pytree_node instead.\n",
            "  _torch_pytree._register_pytree_node(\n",
            "/usr/local/lib/python3.10/dist-packages/transformers/utils/generic.py:309: UserWarning: torch.utils._pytree._register_pytree_node is deprecated. Please use torch.utils._pytree.register_pytree_node instead.\n",
            "  _torch_pytree._register_pytree_node(\n",
            "tokenizer_config.json: 100% 48.0/48.0 [00:00<00:00, 225kB/s]\n",
            "config.json: 100% 625/625 [00:00<00:00, 3.18MB/s]\n",
            "vocab.txt: 100% 872k/872k [00:00<00:00, 9.48MB/s]\n",
            "tokenizer.json: 100% 1.72M/1.72M [00:00<00:00, 20.5MB/s]\n",
            "model.safetensors: 100% 672M/672M [00:05<00:00, 122MB/s]\n",
            "\u001b[38;5;2m✔ Initialized pipeline\u001b[0m\n",
            "\u001b[1m\n",
            "============================= Training pipeline =============================\u001b[0m\n",
            "\u001b[38;5;4mℹ Pipeline: ['transformer', 'ner']\u001b[0m\n",
            "\u001b[38;5;4mℹ Initial learn rate: 0.0\u001b[0m\n",
            "E    #       LOSS TRANS...  LOSS NER  ENTS_F  ENTS_P  ENTS_R  SCORE \n",
            "---  ------  -------------  --------  ------  ------  ------  ------\n",
            "  0       0        1179.42    447.41    0.50    0.46    0.54    0.00\n",
            "  1     200      380412.44  71387.06   50.71   59.50   44.19    0.51\n",
            "  2     400       34257.96  28126.42   75.40   78.36   72.66    0.75\n",
            "  4     600       26412.14  20732.51   83.34   83.67   83.02    0.83\n",
            "  5     800       12181.72  15682.12   88.37   88.21   88.53    0.88\n",
            "  7    1000        6582.31  12178.79   91.06   90.22   91.91    0.91\n",
            "  8    1200        3649.90  10424.70   92.74   92.82   92.65    0.93\n",
            " 10    1400       15042.00   9285.68   92.96   92.81   93.10    0.93\n",
            " 11    1600        2727.50   8477.76   93.71   93.61   93.82    0.94\n",
            "\n",
            "\u001b[31mAborted.\u001b[0m\n"
          ]
        }
      ],
      "source": [
        "!python -m spacy train config.cfg --output ./ --paths.train ./training_data.spacy --paths.dev ./validation_data.spacy --gpu-id 0 #--gpu-id 1"
      ]
    },
    {
      "cell_type": "code",
      "execution_count": 3,
      "metadata": {
        "id": "qha8qrMLAfd6"
      },
      "outputs": [],
      "source": [
        "def predict_ner(text):\n",
        "    nlp_ner = spacy.load(\"/content/model-best\")\n",
        "    doc = nlp_ner(text)\n",
        "    out = []\n",
        "    for ent in doc.ents:\n",
        "        start = ent.start_char\n",
        "        end = ent.end_char - 1\n",
        "        label = ent.label_\n",
        "        out_list = [start, end, label]\n",
        "        out.append(out_list)\n",
        "\n",
        "    return out"
      ]
    },
    {
      "cell_type": "code",
      "execution_count": null,
      "metadata": {
        "colab": {
          "base_uri": "https://localhost:8080/"
        },
        "id": "ApAWSxKhAfd6",
        "outputId": "cec047d7-c3ff-4a6f-f857-cea98e7b2db5"
      },
      "outputs": [
        {
          "output_type": "stream",
          "name": "stderr",
          "text": [
            "/usr/local/lib/python3.10/dist-packages/transformers/utils/generic.py:441: UserWarning: torch.utils._pytree._register_pytree_node is deprecated. Please use torch.utils._pytree.register_pytree_node instead.\n",
            "  _torch_pytree._register_pytree_node(\n",
            "/usr/local/lib/python3.10/dist-packages/transformers/utils/generic.py:309: UserWarning: torch.utils._pytree._register_pytree_node is deprecated. Please use torch.utils._pytree.register_pytree_node instead.\n",
            "  _torch_pytree._register_pytree_node(\n"
          ]
        }
      ],
      "source": [
        "test['ners'] = test.sentences.apply(predict_ner)\n",
        "test.drop(['sentences'], axis=1, inplace=True)"
      ]
    },
    {
      "cell_type": "code",
      "execution_count": null,
      "metadata": {
        "id": "jQ3tDFOkAfd7"
      },
      "outputs": [],
      "source": [
        "output_path = 'test.jsonl'\n",
        "with open(output_path, \"w\") as f:\n",
        "    f.write(test.to_json(orient='records', lines=True, force_ascii=False))\n",
        "!zip test test.jsonl"
      ]
    },
    {
      "cell_type": "code",
      "source": [
        "!zip -r model-best.zip model-best"
      ],
      "metadata": {
        "colab": {
          "base_uri": "https://localhost:8080/"
        },
        "id": "BWci_hkWlnX0",
        "outputId": "6f92a2c4-d4ac-4d6b-b6c2-a7a54f6a9ef1"
      },
      "execution_count": 34,
      "outputs": [
        {
          "output_type": "stream",
          "name": "stdout",
          "text": [
            "updating: model-best/ (stored 0%)\n",
            "  adding: model-best/transformer/ (stored 0%)\n",
            "  adding: model-best/transformer/cfg (stored 0%)\n",
            "  adding: model-best/transformer/model (deflated 8%)\n",
            "  adding: model-best/tokenizer (deflated 84%)\n",
            "  adding: model-best/meta.json (deflated 70%)\n",
            "  adding: model-best/vocab/ (stored 0%)\n",
            "  adding: model-best/vocab/vectors (deflated 45%)\n",
            "  adding: model-best/vocab/strings.json (deflated 90%)\n",
            "  adding: model-best/vocab/lookups.bin (stored 0%)\n",
            "  adding: model-best/vocab/vectors.cfg (stored 0%)\n",
            "  adding: model-best/vocab/key2row (stored 0%)\n",
            "  adding: model-best/ner/ (stored 0%)\n",
            "  adding: model-best/ner/cfg (deflated 33%)\n",
            "  adding: model-best/ner/moves (deflated 80%)\n",
            "  adding: model-best/ner/model (deflated 8%)\n",
            "  adding: model-best/config.cfg (deflated 61%)\n"
          ]
        }
      ]
    },
    {
      "cell_type": "code",
      "source": [
        "ls"
      ],
      "metadata": {
        "colab": {
          "base_uri": "https://localhost:8080/"
        },
        "id": "zc3Jl9Mjl9RS",
        "outputId": "c1a242fe-553b-43cb-9f2d-e70f4ea16a5d"
      },
      "execution_count": 32,
      "outputs": [
        {
          "output_type": "stream",
          "name": "stdout",
          "text": [
            "archive.zip      config.cfg  \u001b[0m\u001b[01;34mmodel-best\u001b[0m/  \u001b[01;34msample_data\u001b[0m/  test.zip             train.jsonl\n",
            "base_config.cfg  dev.jsonl   \u001b[01;34mmodel-last\u001b[0m/  test.jsonl    training_data.spacy  validation_data.spacy\n"
          ]
        }
      ]
    },
    {
      "cell_type": "code",
      "source": [],
      "metadata": {
        "id": "l5qkxrmmmOoi"
      },
      "execution_count": null,
      "outputs": []
    }
  ],
  "metadata": {
    "accelerator": "GPU",
    "colab": {
      "gpuType": "T4",
      "provenance": []
    },
    "kaggle": {
      "accelerator": "gpu",
      "dataSources": [
        {
          "datasetId": 4890782,
          "sourceId": 8244071,
          "sourceType": "datasetVersion"
        }
      ],
      "dockerImageVersionId": 30684,
      "isGpuEnabled": true,
      "isInternetEnabled": true,
      "language": "python",
      "sourceType": "notebook"
    },
    "kernelspec": {
      "display_name": "Python 3",
      "name": "python3"
    },
    "language_info": {
      "codemirror_mode": {
        "name": "ipython",
        "version": 3
      },
      "file_extension": ".py",
      "mimetype": "text/x-python",
      "name": "python",
      "nbconvert_exporter": "python",
      "pygments_lexer": "ipython3",
      "version": "3.10.13"
    }
  },
  "nbformat": 4,
  "nbformat_minor": 0
}